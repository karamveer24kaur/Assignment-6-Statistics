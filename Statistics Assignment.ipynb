{
 "cells": [
  {
   "cell_type": "markdown",
   "id": "3bb2c251",
   "metadata": {},
   "source": [
    "# Q1.  Generate a list of 100 integers containing values between 90 to 130 and store it in the variable `int_list`. \n",
    "\n",
    "After generating the list, find the following:\n",
    "\n",
    " (i) Write a Python function to calculate the mean of a given list of numbers.Create a function to find the median of a list of numbers.\n",
    " \n",
    " (ii) Develop a program to compute the mode of a list of integers.\n",
    " \n",
    " (iii) Implement a function to calculate the weighted mean of a list of values and their corresponding weights.\n",
    " \n",
    " (iv) Write a Python function to find the geometric mean of a list of positive numbers.\n",
    " \n",
    " (v) Create a program to calculate the harmonic mean of a list of values.\n",
    " \n",
    " (vi) Build a function to determine the midrange of a list of numbers (average of the minimum and maximum).\n",
    " \n",
    " (vii) Implement a Python program to find the trimmed mean of a list, excluding a certain percentage of \n",
    "outliers."
   ]
  },
  {
   "cell_type": "code",
   "execution_count": 1,
   "id": "58a6fade",
   "metadata": {},
   "outputs": [],
   "source": [
    "import numpy as np\n",
    "import pandas as pd\n",
    "import matplotlib.pyplot as plt\n",
    "import seaborn as sns"
   ]
  },
  {
   "cell_type": "code",
   "execution_count": 2,
   "id": "8e47ea31",
   "metadata": {},
   "outputs": [
    {
     "data": {
      "text/plain": [
       "[array([ 96, 104,  94, 115, 116, 117,  90, 113, 104, 112,  92,  90, 114,\n",
       "        111,  98, 121, 107, 117, 115, 116, 104, 125, 106,  97,  96, 119,\n",
       "        128,  99, 127, 124,  91, 102, 120, 101,  90, 101, 102, 122,  93,\n",
       "        121, 122, 124, 113, 116, 104, 124, 100, 103, 115,  92, 122, 127,\n",
       "        114, 103, 107,  91, 114, 108,  92, 125,  95, 113, 116,  98, 125,\n",
       "        105, 104, 121, 128, 125, 129, 110,  92, 127,  94,  95, 128, 117,\n",
       "        115, 116,  99,  98, 105,  98, 107, 115, 123, 120, 107, 128,  93,\n",
       "        103, 111,  94, 114, 109, 115,  97, 102, 119])]"
      ]
     },
     "execution_count": 2,
     "metadata": {},
     "output_type": "execute_result"
    }
   ],
   "source": [
    "int_list = [np.random.randint(90, 130, 100)]\n",
    "int_list"
   ]
  },
  {
   "cell_type": "code",
   "execution_count": 3,
   "id": "f091249e",
   "metadata": {},
   "outputs": [
    {
     "name": "stdout",
     "output_type": "stream",
     "text": [
      "109.36\n",
      "110.5\n"
     ]
    }
   ],
   "source": [
    "# Python functions to calculate the mean and the median of a given list of numbers\n",
    "\n",
    "def calc_mean(nums):\n",
    "    return np.mean(nums)\n",
    "\n",
    "def calc_median(nums):\n",
    "    return np.median(nums)\n",
    "\n",
    "print(calc_mean(int_list))\n",
    "print(calc_median(int_list))"
   ]
  },
  {
   "cell_type": "code",
   "execution_count": 6,
   "id": "d6d8b1c9",
   "metadata": {},
   "outputs": [
    {
     "data": {
      "text/plain": [
       "96"
      ]
     },
     "execution_count": 6,
     "metadata": {},
     "output_type": "execute_result"
    }
   ],
   "source": [
    "# program to compute the mode\n",
    "\n",
    "# import statistics as stats\n",
    "\n",
    "from scipy.stats import mode\n",
    "\n",
    "def calc_mode(nums):\n",
    "    return mode(nums).mode[0] # mode(nums) returns a ModeResult object, .mode[0] extracts the first mode value \n",
    "\n",
    "calc_mode(int_list)\n",
    "\n",
    "# so, if you give a numpy ndarray to stats.mode, it will throw type_error because it expects 1-D array like object as param\n",
    "# therefore you can do 2 things\n",
    "# 1.) you can either convert the numpy ndarray to a list using tolist() in the end \n",
    "# 2.) or you can use scipy.stats.mode, and not use numpy, to directly use ndarray to calculate mode"
   ]
  },
  {
   "cell_type": "code",
   "execution_count": 12,
   "id": "6e833d93",
   "metadata": {},
   "outputs": [
    {
     "name": "stdout",
     "output_type": "stream",
     "text": [
      "The weighted mean is: 109.36\n"
     ]
    }
   ],
   "source": [
    "# a function to calculate the weighted mean of a list of values and their corresponding weights\n",
    "\n",
    "sorted_list = np.sort(int_list)\n",
    "\n",
    "unique_values, weights = np.unique(int_list, return_counts=True) \n",
    "# np.unique with return_counts=True, extracts unique values\n",
    "# returns their corresponding counts/frequencies directly as weights\n",
    "\n",
    "def calculate_weighted_mean(nums, weights):\n",
    "    return np.sum(nums * weights) / np.sum(weights)\n",
    "\n",
    "weighted_mean = calculate_weighted_mean(unique_values, weights)\n",
    "print(f\"The weighted mean is: {weighted_mean}\")"
   ]
  },
  {
   "cell_type": "code",
   "execution_count": 15,
   "id": "aca4065e",
   "metadata": {},
   "outputs": [
    {
     "data": {
      "text/plain": [
       "108.74492383292836"
      ]
     },
     "execution_count": 15,
     "metadata": {},
     "output_type": "execute_result"
    }
   ],
   "source": [
    "# Python function to find the geometric mean of a list of positive numbers\n",
    "\n",
    "# Geometric Mean =\n",
    "# Definition: The nth root of the product of n numbers. \n",
    "# It represents the central tendency of a set of numbers in a multiplicative context.\n",
    "\n",
    "def calc_geo_mean(nums):\n",
    "    \n",
    "    # Convert the product operation into a sum of logarithms to avoid underflow/overflow issues.\n",
    "    # Compute the mean of the logarithms, then exponentiate.\n",
    "    \n",
    "    return np.exp(np.mean(np.log(nums)))\n",
    "\n",
    "calc_geo_mean(int_list)"
   ]
  },
  {
   "cell_type": "code",
   "execution_count": 20,
   "id": "beafef73",
   "metadata": {},
   "outputs": [
    {
     "name": "stdout",
     "output_type": "stream",
     "text": [
      "1.0812624992452409\n"
     ]
    }
   ],
   "source": [
    "# a program to calculate the harmonic mean\n",
    "# re-visit!\n",
    "\n",
    "# Harmonic mean =\n",
    "# calculated as the reciprocal of the arithmetic mean of the reciprocals of a dataset. \n",
    "# It is particularly useful for averaging rates or ratios.\n",
    "# How It Differs from Other Means\n",
    "# Arithmetic Mean: Treats all values equally.\n",
    "# Geometric Mean: Focuses on multiplicative relationships.\n",
    "# Harmonic Mean: Focuses on rates and inverses.\n",
    "\n",
    "# def harmonic_mean(nums):\n",
    "#     reciprocals = 1 / np.array(nums)\n",
    "#     print(f\"Reciprocals: {reciprocals}\")\n",
    "#     reciprocal_sum = np.sum(reciprocals)\n",
    "#     print(f\"Sum of Reciprocals: {reciprocal_sum}\")\n",
    "#     return len(nums) / reciprocal_sum\n",
    "\n",
    "# print(harmonic_mean(int_list))\n",
    "\n",
    "# print(int_list)\n",
    "\n",
    "def harmonic_mean(nums):\n",
    "    return len(nums) / np.sum(1 / np.array(nums))\n",
    "print(harmonic_mean(int_list))"
   ]
  },
  {
   "cell_type": "code",
   "execution_count": 29,
   "id": "0b57d744",
   "metadata": {},
   "outputs": [
    {
     "name": "stdout",
     "output_type": "stream",
     "text": [
      "the minimum value is:  90\n",
      "the maximum value is:  129\n",
      "The midrange is:  109.5\n"
     ]
    }
   ],
   "source": [
    "# a function to determine the midrange of a list of numbers (average of the minimum and maximum)\n",
    "\n",
    "min_value = np.min(int_list)\n",
    "print(\"the minimum value is: \", min_value)\n",
    "max_value = np.max(int_list)\n",
    "print(\"the maximum value is: \", max_value)\n",
    "\n",
    "def calc_mid_range(num1,num2):\n",
    "    return (num1+num2)/2\n",
    "\n",
    "print(\"The midrange is: \", calc_mid_range(min_value, max_value))"
   ]
  },
  {
   "cell_type": "code",
   "execution_count": 39,
   "id": "f8c38dbf",
   "metadata": {},
   "outputs": [
    {
     "name": "stdout",
     "output_type": "stream",
     "text": [
      "Trim count: 0, Trimmed data: []\n",
      "The trimmed mean (excluding 1% from each end) is: nan\n"
     ]
    }
   ],
   "source": [
    "# a Python program to find the trimmed mean of a list, excluding a certain percentage of outliers\n",
    "# re-visit!\n",
    "import numpy as np\n",
    "\n",
    "def trimmed_mean(nums, trim_percent):\n",
    "    sorted_data = np.sort(nums)\n",
    "    trim_count = int(len(nums) * trim_percent / 100)\n",
    "    \n",
    "    # Validation to ensure trimmed data is non-empty\n",
    "    if trim_count * 2 >= len(nums):\n",
    "        raise ValueError(\"Trim percentage is too high for the size of the dataset.\")\n",
    "    \n",
    "    trimmed_data = sorted_data[trim_count:-trim_count]\n",
    "    print(f\"Trim count: {trim_count}, Trimmed data: {trimmed_data}\")\n",
    "    \n",
    "    return np.mean(trimmed_data)\n",
    "\n",
    "# Trimmed mean with 1% trimming\n",
    "trim_percent = 1  # Exclude 10% of smallest and largest values\n",
    "trimmed_mean_value = trimmed_mean(int_list, trim_percent)\n",
    "\n",
    "print(f\"The trimmed mean (excluding {trim_percent}% from each end) is: {trimmed_mean_value}\")"
   ]
  },
  {
   "cell_type": "markdown",
   "id": "14bbb80c",
   "metadata": {},
   "source": [
    "# Q2. Generate a list of 500 integers containing values between 200 to 300 and store it in the variable `int_list2`. \n",
    "\n",
    "After generating the list, find the following:\n",
    "\n",
    " (i) Compare the given list of visualization for the given data:\n",
    " \n",
    " 1. Frequency & Gaussian distribution\n",
    " \n",
    " 2. Frequency smoothened KDE plot\n",
    " \n",
    " 3. Gaussian distribution & smoothened KDE plot\n",
    " \n",
    " (ii) Write a Python function to calculate the range of a given list of numbers.\n",
    " \n",
    " (iii) Create a program to find the variance and standard deviation of a list of numbers.\n",
    " \n",
    " (iv) Implement a function to compute the interquartile range (IQR) of a list of values.\n",
    " \n",
    " (v) Build a program to calculate the coefficient of variation for a dataset.\n",
    " \n",
    " (vi) Write a Python function to find the mean absolute deviation (MAD) of a list of numbers.\n",
    " \n",
    " (vii) Create a program to calculate the quartile deviation of a list of values.\n",
    " \n",
    " (viii) Implement a function to find the range-based coefficient of dispersion for a dataset."
   ]
  },
  {
   "cell_type": "code",
   "execution_count": 17,
   "id": "8e1b0296",
   "metadata": {},
   "outputs": [
    {
     "data": {
      "image/png": "[encoded data removed]",
      "text/plain": [
       "<Figure size 1200x600 with 1 Axes>"
      ]
     },
     "metadata": {},
     "output_type": "display_data"
    },
    {
     "name": "stderr",
     "output_type": "stream",
     "text": [
      "C:\\ProgramData\\anaconda3\\Lib\\site-packages\\seaborn\\_oldcore.py:1119: FutureWarning: use_inf_as_na option is deprecated and will be removed in a future version. Convert inf values to NaN before operating instead.\n",
      "  with pd.option_context('mode.use_inf_as_na', True):\n"
     ]
    },
    {
     "data": {
      "image/png": "[encoded data removed]",
      "text/plain": [
       "<Figure size 1200x600 with 1 Axes>"
      ]
     },
     "metadata": {},
     "output_type": "display_data"
    },
    {
     "name": "stderr",
     "output_type": "stream",
     "text": [
      "C:\\ProgramData\\anaconda3\\Lib\\site-packages\\seaborn\\_oldcore.py:1119: FutureWarning: use_inf_as_na option is deprecated and will be removed in a future version. Convert inf values to NaN before operating instead.\n",
      "  with pd.option_context('mode.use_inf_as_na', True):\n"
     ]
    },
    {
     "data": {
      "image/png": "[encoded data removed]",
      "text/plain": [
       "<Figure size 1200x600 with 1 Axes>"
      ]
     },
     "metadata": {},
     "output_type": "display_data"
    }
   ],
   "source": [
    "# Compare the given list of visualization for the given data:\n",
    "# Frequency & Gaussian distribution\n",
    "# Frequency smoothened KDE plot\n",
    "# Gaussian distribution & smoothened KDE plot\n",
    "\n",
    "import numpy as np\n",
    "import matplotlib.pyplot as plt\n",
    "import seaborn as sns\n",
    "from scipy.stats import norm\n",
    "\n",
    "# Step 1: Generate the list of 500 integers\n",
    "np.random.seed(42)  # For reproducibility\n",
    "int_list2 = np.random.randint(200, 301, size=500)\n",
    "\n",
    "# Step 2: Frequency & Gaussian distribution\n",
    "plt.figure(figsize=(12, 6))\n",
    "\n",
    "# Frequency histogram\n",
    "plt.hist(int_list2, bins=15, density=True, alpha=0.6, color='blue', label='Frequency Histogram')\n",
    "\n",
    "# Gaussian distribution\n",
    "mean = np.mean(int_list2)\n",
    "std_dev = np.std(int_list2)\n",
    "x = np.linspace(min(int_list2), max(int_list2), 1000)\n",
    "gaussian = norm.pdf(x, mean, std_dev)\n",
    "plt.plot(x, gaussian, label='Gaussian Distribution', color='red')\n",
    "\n",
    "plt.title('Frequency & Gaussian Distribution')\n",
    "plt.xlabel('Value')\n",
    "plt.ylabel('Density')\n",
    "plt.legend()\n",
    "plt.show()\n",
    "\n",
    "# Step 3: Frequency-smoothed KDE plot\n",
    "plt.figure(figsize=(12, 6))\n",
    "\n",
    "sns.histplot(int_list2, bins=15, kde=True, color='green', stat='density', label='KDE')\n",
    "plt.title('Frequency-smoothed KDE Plot')\n",
    "plt.xlabel('Value')\n",
    "plt.ylabel('Density')\n",
    "plt.legend()\n",
    "plt.show()\n",
    "\n",
    "# Step 4: Gaussian distribution & smoothed KDE plot\n",
    "plt.figure(figsize=(12, 6))\n",
    "\n",
    "# Gaussian Distribution\n",
    "plt.plot(x, gaussian, label='Gaussian Distribution', color='red')\n",
    "\n",
    "# Smoothed KDE Plot\n",
    "sns.kdeplot(int_list2, label='Smoothed KDE', color='purple')\n",
    "\n",
    "plt.title('Gaussian Distribution & Smoothed KDE Plot')\n",
    "plt.xlabel('Value')\n",
    "plt.ylabel('Density')\n",
    "plt.legend()\n",
    "plt.show()"
   ]
  },
  {
   "cell_type": "code",
   "execution_count": 18,
   "id": "29ea8118",
   "metadata": {},
   "outputs": [
    {
     "name": "stdout",
     "output_type": "stream",
     "text": [
      "The range of the list is: 100\n"
     ]
    }
   ],
   "source": [
    "# a Python function to calculate the range of a given list of numbers\n",
    "\n",
    "def calculate_range(nums):\n",
    "    return max(nums) - min(nums)\n",
    "\n",
    "result = calculate_range(int_list2)\n",
    "print(f\"The range of the list is: {result}\")"
   ]
  },
  {
   "cell_type": "code",
   "execution_count": 19,
   "id": "bf1a7f0c",
   "metadata": {},
   "outputs": [
    {
     "name": "stdout",
     "output_type": "stream",
     "text": [
      "The variance of the list is: 901.3499000000006\n",
      "The standard deviation of the list is: 30.022489903404093\n"
     ]
    }
   ],
   "source": [
    "# a program to find the variance and standard deviation \n",
    "\n",
    "def calculate_variance_and_stddev(nums):\n",
    "    \n",
    "    n = len(nums)\n",
    "    mean = sum(nums) / n\n",
    "    variance = sum((x - mean) ** 2 for x in nums) / n\n",
    "    std_dev = variance ** 0.5  # Square root of variance\n",
    "    \n",
    "    return variance, std_dev\n",
    "\n",
    "variance, std_dev = calculate_variance_and_stddev(int_list2)\n",
    "print(f\"The variance of the list is: {variance}\")\n",
    "print(f\"The standard deviation of the list is: {std_dev}\")"
   ]
  },
  {
   "cell_type": "code",
   "execution_count": 20,
   "id": "41fe8889",
   "metadata": {},
   "outputs": [
    {
     "name": "stdout",
     "output_type": "stream",
     "text": [
      "The Interquartile Range (IQR) of the list is: 51.25\n"
     ]
    }
   ],
   "source": [
    "# compute the interquartile range (IQR)\n",
    "\n",
    "def calculate_iqr(data):\n",
    "    \n",
    "    data_array = np.array(data)\n",
    "    q1 = np.percentile(data_array, 25)\n",
    "    q3 = np.percentile(data_array, 75)\n",
    "    \n",
    "    iqr = q3 - q1\n",
    "    return iqr\n",
    "\n",
    "iqr = calculate_iqr(int_list2)\n",
    "print(f\"The Interquartile Range (IQR) of the list is: {iqr}\")"
   ]
  },
  {
   "cell_type": "code",
   "execution_count": 21,
   "id": "20feb473",
   "metadata": {},
   "outputs": [
    {
     "name": "stdout",
     "output_type": "stream",
     "text": [
      "The Coefficient of Variation (CV) of the list is: 12.04%\n"
     ]
    }
   ],
   "source": [
    "# program to calculate the coefficient of variation\n",
    "\n",
    "def calculate_coefficient_of_variation(data):\n",
    "    \n",
    "    mean = sum(data) / len(data)\n",
    "    std_dev = (sum((x - mean) ** 2 for x in data) / len(data)) ** 0.5\n",
    "    cv = (std_dev / mean) * 100\n",
    "    return cv\n",
    "\n",
    "cv = calculate_coefficient_of_variation(int_list2)\n",
    "print(f\"The Coefficient of Variation (CV) of the list is: {cv:.2f}%\")"
   ]
  },
  {
   "cell_type": "code",
   "execution_count": 22,
   "id": "d5b7c670",
   "metadata": {},
   "outputs": [
    {
     "name": "stdout",
     "output_type": "stream",
     "text": [
      "The Mean Absolute Deviation (MAD) of the list is: 25.80\n"
     ]
    }
   ],
   "source": [
    "# Python function to find the mean absolute deviation (MAD)\n",
    "\n",
    "def calculate_mad(data):\n",
    "    \n",
    "    mean = sum(data) / len(data)\n",
    "    mad = sum(abs(x - mean) for x in data) / len(data)\n",
    "    return mad\n",
    "\n",
    "mad = calculate_mad(int_list2)\n",
    "print(f\"The Mean Absolute Deviation (MAD) of the list is: {mad:.2f}\")"
   ]
  },
  {
   "cell_type": "code",
   "execution_count": 23,
   "id": "417a6cc6",
   "metadata": {},
   "outputs": [
    {
     "name": "stdout",
     "output_type": "stream",
     "text": [
      "The Quartile Deviation (QD) of the list is: 25.625\n"
     ]
    }
   ],
   "source": [
    "# program to calculate the quartile deviation\n",
    "\n",
    "def calculate_quartile_deviation(data):\n",
    "    \n",
    "    data_array = np.array(data)\n",
    "    q1 = np.percentile(data_array, 25)\n",
    "    q3 = np.percentile(data_array, 75)\n",
    "    qd = (q3 - q1) / 2\n",
    "    return qd\n",
    "\n",
    "qd = calculate_quartile_deviation(int_list2)\n",
    "print(f\"The Quartile Deviation (QD) of the list is: {qd}\")"
   ]
  },
  {
   "cell_type": "code",
   "execution_count": 24,
   "id": "6bdf8fd9",
   "metadata": {},
   "outputs": [
    {
     "name": "stdout",
     "output_type": "stream",
     "text": [
      "The Range-Based Coefficient of Dispersion is: 20.00%\n"
     ]
    }
   ],
   "source": [
    "# a function to find the range-based coefficient of dispersion \n",
    "\n",
    "def range_based_coefficient_of_dispersion(data):\n",
    "    \n",
    "    max_value = max(data)\n",
    "    min_value = min(data)\n",
    "    range_value = max_value - min_value\n",
    "    coefficient = (range_value / (max_value + min_value)) * 100\n",
    "    return coefficient\n",
    "\n",
    "rb_cod = range_based_coefficient_of_dispersion(int_list2)\n",
    "print(f\"The Range-Based Coefficient of Dispersion is: {rb_cod:.2f}%\")"
   ]
  },
  {
   "cell_type": "markdown",
   "id": "aa7e0370",
   "metadata": {},
   "source": [
    "# Q3. Write a Python class representing a discrete random variable with methods to calculate its expected value and variance."
   ]
  },
  {
   "cell_type": "code",
   "execution_count": 9,
   "id": "39db9273",
   "metadata": {},
   "outputs": [
    {
     "name": "stdout",
     "output_type": "stream",
     "text": [
      "Expected Value: 4.2\n",
      "Variance: 1.56\n"
     ]
    }
   ],
   "source": [
    "# expected value = mean : average outcome if an experiment were repeated many times\n",
    "# variance : measures the spread or dispersion of a set of values\n",
    "\n",
    "class DiscreteRandomVariable:\n",
    "    \n",
    "    def __init__(self, outcomes, probabilities):\n",
    "        \n",
    "        \"\"\"\n",
    "        Initialize a discrete random variable.\n",
    "        \n",
    "        :param outcomes: List of possible outcomes (values of the random variable).\n",
    "        :param probabilities: List of probabilities corresponding to the outcomes.\n",
    "        \"\"\"\n",
    "        \n",
    "        # ERROR HANDLING\n",
    "        \n",
    "        # Each outcome must have an associated probability, hence, len(list of outcomes) = len(list of probabilities)\n",
    "        if len(outcomes) != len(probabilities):\n",
    "            raise ValueError(\"Outcomes and probabilities must have the same length.\")\n",
    "            \n",
    "        # probability must lie within the range [0,1], valid probability distribution must sum to 1, tolerance value = 1e-6\n",
    "        # Floating-point arithmetic in Python can introduce small precision errors, \n",
    "        # causing sums that are theoretically 1 to be slightly off, like 0.9999999 or 1.0000001 \n",
    "        # Using a tolerance value accounts for these minor inaccuracies\n",
    "        if not all(0 <= p <= 1 for p in probabilities) or not abs(sum(probabilities) - 1.0) < 1e-6:\n",
    "            raise ValueError(\"Probabilities must be between 0 and 1 and sum to 1.\")\n",
    "            \n",
    "        self.outcomes = outcomes\n",
    "        self.probabilities = probabilities\n",
    "        \n",
    "    # class methods\n",
    "    \n",
    "    def expected_value(self):\n",
    "            \n",
    "        \"\"\"\n",
    "        Calculate the expected value of the random variable.\n",
    "        \n",
    "        :return: Expected value (mean) of the random variable.\n",
    "        \"\"\"\n",
    "        \n",
    "        return sum(outcome * prob for outcome, prob in zip(self.outcomes, self.probabilities))\n",
    "\n",
    "    def variance(self):\n",
    "        \n",
    "        \"\"\"\n",
    "        Calculate the variance of the random variable.\n",
    "        \n",
    "        :return: Variance of the random variable.\n",
    "        \"\"\"\n",
    "        \n",
    "        mean = self.expected_value()\n",
    "        return sum(prob * (outcome - mean) ** 2 for outcome, prob in zip(self.outcomes, self.probabilities)) \n",
    "    \n",
    "outcomes = [2, 3, 4, 5, 6]\n",
    "probabilities = [0.1, 0.2, 0.3, 0.2, 0.2]\n",
    "\n",
    "rv = DiscreteRandomVariable(outcomes, probabilities)\n",
    "\n",
    "print(\"Expected Value:\", rv.expected_value())\n",
    "print(\"Variance:\", rv.variance()) "
   ]
  },
  {
   "cell_type": "markdown",
   "id": "98037acc",
   "metadata": {},
   "source": [
    "# Q4. Implement a program to simulate the rolling of a fair six-sided die and calculate the expected value and variance of the outcomes."
   ]
  },
  {
   "cell_type": "code",
   "execution_count": 10,
   "id": "e99b44c0",
   "metadata": {},
   "outputs": [],
   "source": [
    "# fair die means any value between 1 to 6 has same probability of occuring\n",
    "\n",
    "import numpy as np"
   ]
  },
  {
   "cell_type": "code",
   "execution_count": 19,
   "id": "86c43d17",
   "metadata": {},
   "outputs": [
    {
     "name": "stdout",
     "output_type": "stream",
     "text": [
      "Rolling the die...\n",
      "The die shows: 2\n"
     ]
    }
   ],
   "source": [
    "def roll_die():\n",
    "    \"\"\"\n",
    "    Simulate rolling a fair 6-sided die.\n",
    "    \n",
    "    :return: A random number between 1 and 6 (inclusive).\n",
    "    \"\"\"\n",
    "    return np.random.randint(1,6)\n",
    "\n",
    "# Simulate rolling the die\n",
    "print(\"Rolling the die...\")\n",
    "result = roll_die()\n",
    "print(f\"The die shows: {result}\")"
   ]
  },
  {
   "cell_type": "code",
   "execution_count": 20,
   "id": "5e1c53ec",
   "metadata": {},
   "outputs": [
    {
     "ename": "NameError",
     "evalue": "name 'self' is not defined",
     "output_type": "error",
     "traceback": [
      "\u001b[1;31m---------------------------------------------------------------------------\u001b[0m",
      "\u001b[1;31mNameError\u001b[0m                                 Traceback (most recent call last)",
      "Cell \u001b[1;32mIn[20], line 1\u001b[0m\n\u001b[1;32m----> 1\u001b[0m \u001b[38;5;28;01mclass\u001b[39;00m \u001b[38;5;21;01mMean_and_Variance\u001b[39;00m(\u001b[38;5;28mself\u001b[39m, outcomes, probabilities):\n\u001b[0;32m      2\u001b[0m     \u001b[38;5;28mself\u001b[39m\u001b[38;5;241m.\u001b[39moutcomes \u001b[38;5;241m=\u001b[39m outcomes\n\u001b[0;32m      3\u001b[0m     \u001b[38;5;28mself\u001b[39m\n",
      "\u001b[1;31mNameError\u001b[0m: name 'self' is not defined"
     ]
    }
   ],
   "source": [
    "class Mean_and_Variance():\n",
    "    \n",
    "    def __init__(self, outcomes, probabilities)\n",
    "    \n",
    "    self.outcomes = outcomes\n",
    "    self.probabilities = probabilities\n",
    "    \n",
    "    def mean_value(self):\n",
    "        \"\"\"\n",
    "        Calculate the expected value of outcomes.\n",
    "        :return: Expected value (mean) of outcomes.\n",
    "        \"\"\"\n",
    "        return "
   ]
  },
  {
   "cell_type": "code",
   "execution_count": 21,
   "id": "4a4722d5",
   "metadata": {},
   "outputs": [
    {
     "name": "stdout",
     "output_type": "stream",
     "text": [
      "Simulating 10 rolls of the die...\n",
      "Roll results: [3, 5, 4, 1, 1, 1, 2, 4, 6, 5]\n",
      "\n",
      "Die Statistics:\n",
      "Expected Value: 3.5\n",
      "Variance: 2.9166666666666665\n"
     ]
    }
   ],
   "source": [
    "import random\n",
    "\n",
    "class FairDieSimulation:\n",
    "    def __init__(self, sides=6):\n",
    "        \"\"\"\n",
    "        Initialize the die with a given number of sides.\n",
    "        :param sides: Number of sides on the die.\n",
    "        \"\"\"\n",
    "        self.sides = sides\n",
    "        self.outcomes = list(range(1, sides + 1))  # Possible outcomes: [1, 2, ..., sides]\n",
    "        self.probabilities = [1 / sides] * sides  # Equal probability for each outcome\n",
    "    \n",
    "    def roll_die(self, rolls=1):\n",
    "        \"\"\"\n",
    "        Simulate rolling the die.\n",
    "        :param rolls: Number of rolls to simulate.\n",
    "        :return: A list of outcomes from the rolls.\n",
    "        \"\"\"\n",
    "        return [random.randint(1, self.sides) for _ in range(rolls)]\n",
    "    \n",
    "    def expected_value(self):\n",
    "        \"\"\"\n",
    "        Calculate the expected value of the die outcomes.\n",
    "        :return: The expected value.\n",
    "        \"\"\"\n",
    "        return sum(outcome * prob for outcome, prob in zip(self.outcomes, self.probabilities))\n",
    "    \n",
    "    def variance(self):\n",
    "        \"\"\"\n",
    "        Calculate the variance of the die outcomes.\n",
    "        :return: The variance.\n",
    "        \"\"\"\n",
    "        mean = self.expected_value()\n",
    "        return sum(prob * (outcome - mean) ** 2 for outcome, prob in zip(self.outcomes, self.probabilities))\n",
    "\n",
    "# Create a fair die simulation\n",
    "die_simulation = FairDieSimulation()\n",
    "\n",
    "# Simulate rolling the die 10 times\n",
    "print(\"Simulating 10 rolls of the die...\")\n",
    "roll_results = die_simulation.roll_die(rolls=10)\n",
    "print(f\"Roll results: {roll_results}\")\n",
    "\n",
    "# Calculate expected value and variance\n",
    "expected_value = die_simulation.expected_value()\n",
    "variance = die_simulation.variance()\n",
    "\n",
    "print(\"\\nDie Statistics:\")\n",
    "print(f\"Expected Value: {expected_value}\")\n",
    "print(f\"Variance: {variance}\")"
   ]
  },
  {
   "cell_type": "markdown",
   "id": "0dc28201",
   "metadata": {},
   "source": [
    "# Q5. Create a Python function to generate random samples from a given probability distribution (e.g., binomial, Poisson) and calculate their mean and variance.\n",
    "\n",
    "The Poisson distribution is used to model the likelihood of events happening at a certain rate within a fixed time or space, under the assumptions of independence and constant occurrence.\n",
    "\n",
    " The key assumptions of the Poisson distribution are:\n",
    "\n",
    " 1. Events occur independently of each other.\n",
    " 2. The average rate of occurrence (λ) is constant over the given interval.\n",
    " 3. The number of events can be any non-negative integer.\n",
    " \n",
    "The mean (λ) and variance (λ) of a Poisson distribution are equal. \n",
    "This means that both the average number of events and the spread or variability around this average are characterized by the same parameter."
   ]
  },
  {
   "cell_type": "code",
   "execution_count": 1,
   "id": "7e7a3be5",
   "metadata": {},
   "outputs": [],
   "source": [
    "# poisson random probability distribution\n",
    "\n",
    "import pandas as pd\n",
    "import numpy as np\n",
    "import seaborn as sns"
   ]
  },
  {
   "cell_type": "code",
   "execution_count": 5,
   "id": "73e14f83",
   "metadata": {},
   "outputs": [],
   "source": [
    "population = np.random.poisson(lam=5, size=100000) \n",
    "#(lam : The average number of events (λ) expected to occur in the interval, size : The shape of the returned array)"
   ]
  },
  {
   "cell_type": "code",
   "execution_count": 6,
   "id": "a4f94667",
   "metadata": {},
   "outputs": [
    {
     "data": {
      "text/plain": [
       "array([ 3,  3, 10, ...,  5,  6,  4])"
      ]
     },
     "execution_count": 6,
     "metadata": {},
     "output_type": "execute_result"
    }
   ],
   "source": [
    "population"
   ]
  },
  {
   "cell_type": "code",
   "execution_count": 7,
   "id": "8b872632",
   "metadata": {},
   "outputs": [
    {
     "data": {
      "text/plain": [
       "100000"
      ]
     },
     "execution_count": 7,
     "metadata": {},
     "output_type": "execute_result"
    }
   ],
   "source": [
    "len(population)"
   ]
  },
  {
   "cell_type": "code",
   "execution_count": 17,
   "id": "bc4e2caf",
   "metadata": {},
   "outputs": [
    {
     "name": "stderr",
     "output_type": "stream",
     "text": [
      "C:\\ProgramData\\anaconda3\\Lib\\site-packages\\seaborn\\_oldcore.py:1119: FutureWarning: use_inf_as_na option is deprecated and will be removed in a future version. Convert inf values to NaN before operating instead.\n",
      "  with pd.option_context('mode.use_inf_as_na', True):\n"
     ]
    },
    {
     "data": {
      "text/plain": [
       "<Axes: ylabel='Count'>"
      ]
     },
     "execution_count": 17,
     "metadata": {},
     "output_type": "execute_result"
    },
    {
     "data": {
      "image/png": "[encoded data removed]",
      "text/plain": [
       "<Figure size 640x480 with 1 Axes>"
      ]
     },
     "metadata": {},
     "output_type": "display_data"
    }
   ],
   "source": [
    "sns.histplot(population, kde=True, bins=30)"
   ]
  },
  {
   "cell_type": "code",
   "execution_count": 9,
   "id": "39683440",
   "metadata": {},
   "outputs": [],
   "source": [
    "# now we make samples\n",
    "\n",
    "sample_size = int(len(population)*0.1)"
   ]
  },
  {
   "cell_type": "code",
   "execution_count": 10,
   "id": "dbe0206e",
   "metadata": {},
   "outputs": [
    {
     "data": {
      "text/plain": [
       "10000"
      ]
     },
     "execution_count": 10,
     "metadata": {},
     "output_type": "execute_result"
    }
   ],
   "source": [
    "sample_size"
   ]
  },
  {
   "cell_type": "code",
   "execution_count": 15,
   "id": "2c135c90",
   "metadata": {},
   "outputs": [],
   "source": [
    "def sample_statistics(samples):\n",
    "    \n",
    "    mean = np.mean(samples)\n",
    "    variance = np.var(samples)\n",
    "    \n",
    "    return {\"mean\": mean, \"variance\": variance}"
   ]
  },
  {
   "cell_type": "code",
   "execution_count": 16,
   "id": "dc97a2ff",
   "metadata": {},
   "outputs": [
    {
     "name": "stdout",
     "output_type": "stream",
     "text": [
      "Poisson Distribution Stats: {'mean': 4.987, 'variance': 4.990171}\n"
     ]
    }
   ],
   "source": [
    "poisson_stats = sample_statistics(population)\n",
    "print(\"Poisson Distribution Stats:\", poisson_stats)"
   ]
  },
  {
   "cell_type": "markdown",
   "id": "572ad514",
   "metadata": {},
   "source": [
    "# Q6. Write a Python script to generate random numbers from a Gaussian (normal) distribution and compute the mean, variance, and standard deviation of the samples."
   ]
  },
  {
   "cell_type": "code",
   "execution_count": 18,
   "id": "917b0e0d",
   "metadata": {},
   "outputs": [
    {
     "data": {
      "text/plain": [
       "array([-1.20639317e+00, -2.99710120e-01, -8.70052573e-01, -8.35635453e-01,\n",
       "       -1.84457473e-02, -1.66661891e+00,  2.00616146e-01, -1.13671227e-01,\n",
       "        2.19401870e-01,  7.75863738e-01, -3.34685537e-01,  4.93576996e-01,\n",
       "       -6.43881158e-01,  1.19399859e+00, -5.00473526e-01, -6.01169272e-02,\n",
       "       -1.89557039e+00,  1.07415769e+00,  9.14073727e-01,  1.34747760e+00,\n",
       "       -1.55046583e+00,  1.06876932e+00,  7.03756254e-01, -1.13601809e+00,\n",
       "       -7.34224211e-01,  9.34950726e-02,  7.18721915e-02, -7.05064345e-01,\n",
       "       -9.83290887e-01,  5.63635766e-01, -2.18739077e-01, -1.36640129e+00,\n",
       "       -1.46664251e+00,  3.82981434e-01,  1.99461816e+00,  1.48571658e+00,\n",
       "        9.41323423e-02,  1.13803904e+00,  1.86120171e+00, -1.56130585e+00,\n",
       "        2.41525309e-01, -7.82827418e-01, -6.30115957e-01, -4.02706417e-01,\n",
       "       -4.86739479e-01,  1.04590111e-01,  8.21310213e-01,  4.40037449e-01,\n",
       "        1.27012034e+00,  1.59926365e-01, -7.07988086e-02, -6.96081760e-01,\n",
       "        1.98974604e+00, -8.35658760e-01, -2.25532232e-01, -6.73425246e-01,\n",
       "       -3.78284889e-01,  1.20278634e-01, -3.30688475e-01, -1.13000201e+00,\n",
       "       -1.21566997e-01,  1.02539516e+00, -8.48719078e-01,  1.35850675e+00,\n",
       "       -1.10645419e+00,  7.74393732e-01,  1.81149452e-01,  7.06802501e-01,\n",
       "       -4.66212154e-01, -2.60042473e-02,  9.16480532e-01, -2.24247160e-01,\n",
       "        5.30747114e-01,  9.45847223e-01, -5.90256995e-01,  8.36115594e-01,\n",
       "        1.18222245e+00,  2.66143240e-02, -2.86761561e+00, -1.54963849e+00,\n",
       "       -1.87792282e-01,  1.84203999e-01,  1.24721457e+00, -9.09534940e-01,\n",
       "        7.58678284e-01,  3.74996754e-01,  9.81143137e-02,  9.42386345e-01,\n",
       "        8.92707764e-01,  1.77365663e+00, -4.37940620e-01,  3.24969891e-02,\n",
       "       -2.14605380e+00,  6.21174489e-01,  1.15619233e+00,  4.09522763e-01,\n",
       "        5.62729023e-01, -6.16811101e-01,  2.91151466e-01, -6.12108042e-02,\n",
       "        9.41827068e-01,  6.78647664e-01, -7.48381382e-01, -2.52671583e-01,\n",
       "        9.93576496e-01, -2.97170507e-01,  9.04809856e-02,  1.35455342e+00,\n",
       "       -1.20579280e-01, -3.68314101e-02,  5.19004740e-01, -6.63061581e-01,\n",
       "       -1.53514263e+00,  2.15378282e-01,  2.51554411e-01, -9.46432054e-01,\n",
       "       -4.66176173e-01,  1.04108076e+00,  7.68683889e-01, -2.24825640e-01,\n",
       "       -9.00565275e-03, -6.16068138e-01, -3.81963878e-01, -3.27845103e-01,\n",
       "        2.81827685e-01, -5.72288043e-01,  9.08984740e-01, -8.18635457e-01,\n",
       "        9.69206784e-01,  1.63514202e+00, -6.99781185e-02,  4.06619460e-01,\n",
       "        1.48454468e+00, -6.54336069e-01,  1.17132384e+00, -5.47361255e-01,\n",
       "        1.15940074e+00,  6.45270330e-01, -3.87839936e-01,  3.04164777e+00,\n",
       "       -7.67667756e-01, -1.92817128e-01, -8.52553684e-01,  1.24112688e+00,\n",
       "       -2.95529638e-01, -6.84350090e-01,  4.24180393e-01,  1.33347671e+00,\n",
       "       -1.12859183e-01, -5.03624505e-01,  1.40216191e+00,  8.50605362e-02,\n",
       "        1.96772837e+00, -1.59291776e+00,  8.99887279e-01,  1.78721740e+00,\n",
       "       -3.32615964e-01,  8.42615217e-01,  4.35336182e-01,  8.18473159e-01,\n",
       "        8.85029046e-01, -3.82413218e-03,  6.12284555e-01,  5.06987951e-01,\n",
       "        1.11996671e+00, -2.63337618e-01,  1.03321671e+00, -1.45816114e+00,\n",
       "        1.59118244e+00,  1.61019168e-01,  9.17471436e-01, -2.85060533e-01,\n",
       "       -6.22662226e-01,  1.74581880e+00, -7.36693470e-01,  5.74073240e-01,\n",
       "        6.64157550e-01,  1.31559374e+00,  1.55908071e+00,  1.92084420e+00,\n",
       "       -1.65396031e+00, -1.03543062e+00,  1.63922737e+00,  4.22846160e-01,\n",
       "       -5.04692712e-01, -2.95069902e-02,  2.64211927e-01,  3.04780080e-01,\n",
       "       -1.96169826e-01, -4.68948731e-01,  4.66135699e-01,  1.08202053e+00,\n",
       "        2.70746517e-01,  1.37129628e+00, -1.27592926e-01, -1.74962618e+00,\n",
       "       -1.01841384e+00,  4.51628115e-01,  1.40800616e+00,  7.10460081e-01,\n",
       "       -4.55956780e-01,  7.36329079e-01,  1.25598227e+00,  1.46844210e+00,\n",
       "        1.14254138e+00, -1.53625328e+00,  1.58587776e-01,  1.87377765e+00,\n",
       "       -1.07547733e+00, -1.02323963e+00,  5.78815315e-01, -4.70731020e-01,\n",
       "        4.62731606e-01, -1.38434000e-02, -1.62041795e+00, -1.34093344e-01,\n",
       "       -2.28975858e-01, -2.62704008e+00, -5.11112261e-01,  2.13612663e-01,\n",
       "       -7.21113963e-01,  1.28248339e+00,  2.26378246e-01, -7.42284633e-01,\n",
       "       -1.60964572e+00,  8.11757892e-01,  3.38106653e-01,  1.14841846e+00,\n",
       "       -7.06792667e-01,  4.94025801e-02,  7.32679893e-01, -4.19184263e-01,\n",
       "        2.68023628e+00,  8.00165793e-01,  8.20955450e-01,  7.20655466e-01,\n",
       "        1.80160259e+00,  1.29517839e+00,  1.11987963e+00, -2.17194779e+00,\n",
       "       -9.10577314e-01,  3.29216903e-03, -6.25015848e-01,  1.03898728e+00,\n",
       "       -1.41687575e+00,  1.42321415e+00, -1.49977353e-01, -6.03215036e-01,\n",
       "       -5.27264617e-01, -6.07421177e-02,  2.72516716e-02,  5.00787355e-01,\n",
       "       -8.52542034e-01, -9.43355742e-01,  1.97045958e+00, -1.28234964e+00,\n",
       "       -2.36946593e+00,  3.59626933e-01,  1.44192924e+00, -7.15094094e-02,\n",
       "        1.43691779e+00,  1.94152864e+00,  1.13094597e+00, -8.99669605e-01,\n",
       "        9.13007017e-02,  1.25913988e+00, -1.19881947e+00, -3.37295663e-01,\n",
       "        1.85514068e+00, -5.70360799e-01, -8.06485679e-01, -5.19200970e-01,\n",
       "       -5.64481198e-01,  1.07607069e+00,  3.10783508e-02,  1.57093341e+00,\n",
       "        2.51197875e-01,  1.39943336e+00,  8.13514896e-01, -5.13166388e-01,\n",
       "        9.39696176e-02, -1.12327022e+00, -2.77412561e-01,  8.29057704e-01,\n",
       "        4.41145381e-02, -1.14748191e-01, -1.17494555e+00, -7.74316285e-02,\n",
       "       -6.49952550e-01,  7.49601160e-01,  7.07678022e-02,  6.53209179e-01,\n",
       "        1.17522348e+00, -5.77064202e-01,  8.95325035e-03,  1.40750258e+00,\n",
       "        7.36302819e-01,  5.49444743e-01,  4.57829470e-02,  1.40406288e+00,\n",
       "       -9.57831500e-01, -1.18690231e+00,  9.05372207e-02, -7.61700748e-01,\n",
       "        5.29957521e-01,  9.20672246e-01,  1.93869498e+00,  1.22038347e+00,\n",
       "       -2.61802421e+00,  4.47599168e-01,  8.44785883e-01, -3.08256624e-01,\n",
       "        1.58891667e+00, -2.41836596e-01,  1.16846932e+00, -1.10594996e+00,\n",
       "        3.12117489e-01, -1.94602187e-01,  5.22412449e-01, -9.31026005e-01,\n",
       "        6.45433640e-01,  1.11356858e-03, -4.79792595e-01,  2.98044763e-01,\n",
       "       -8.78866569e-01, -1.29928327e+00,  2.51036473e-01, -3.64152089e-01,\n",
       "        2.56757628e-01, -2.53932474e-01,  1.06175230e+00, -1.91288082e+00,\n",
       "       -2.27244221e+00,  1.42887071e-02,  2.14073127e+00, -1.36931979e+00,\n",
       "        1.72436109e+00,  3.76252078e-01,  2.53924008e-01,  6.12501757e-01,\n",
       "        1.06658891e+00,  2.10086821e+00,  1.74602604e-01, -1.94500639e-01,\n",
       "        1.61600315e-02,  5.79535330e-01,  1.58930100e+00, -7.42130048e-01,\n",
       "       -5.69656928e-01,  2.60391818e-01, -6.72892748e-01,  1.67579086e+00,\n",
       "       -3.30952551e-01, -4.42209760e-01, -2.10954405e-02,  6.73899374e-02,\n",
       "        2.73008017e+00,  4.12613502e-01, -5.14777755e-01,  3.48188694e-01,\n",
       "       -1.49589060e+00, -8.50958601e-02, -1.98977770e+00,  3.94263056e-01,\n",
       "       -5.01244705e-02,  1.25830343e-01, -1.40053176e-01, -4.35284238e-01,\n",
       "        2.99016634e-01,  1.06712263e+00, -5.95278582e-01,  3.66345404e-01,\n",
       "       -7.78988880e-01, -1.48214626e+00, -2.24022678e+00,  7.33775511e-01,\n",
       "       -1.11984515e+00,  3.16491362e-01, -3.02035919e-01, -1.21458908e+00,\n",
       "       -7.81677074e-01, -1.61584766e+00,  5.37527645e-01, -1.82863050e+00,\n",
       "        1.18801879e+00,  6.28973860e-01,  1.83249872e-01,  4.39692284e-01,\n",
       "        6.36276981e-01, -1.99298318e-01,  1.51840777e+00,  5.20813024e-01,\n",
       "       -6.35957450e-01,  8.76201178e-01, -1.67514237e-01,  4.14805843e-01,\n",
       "       -7.28868531e-01,  8.14107255e-01,  3.29434565e-01, -1.15419192e+00,\n",
       "       -1.07579657e+00,  1.68242289e+00,  5.71034852e-01, -7.78067383e-01,\n",
       "        1.56239489e+00,  1.02764247e+00,  6.51698919e-01,  1.74247275e-01,\n",
       "        1.58161432e+00,  7.54738996e-01, -5.93565280e-02, -1.17801642e+00,\n",
       "       -3.95986107e-02,  9.26697458e-01, -3.45450405e-01,  4.97872917e-01,\n",
       "       -1.15122539e+00, -6.73379751e-01, -1.44852704e+00, -1.66711057e+00,\n",
       "        1.20735840e+00,  1.05455921e+00, -5.25739225e-01, -2.83183776e+00,\n",
       "       -1.61782218e-01,  3.84495620e-01,  2.69438394e-01, -3.02690760e-01,\n",
       "        2.35591917e-01,  2.16467745e-01,  1.19186163e+00, -8.32318078e-01,\n",
       "       -9.76941784e-01,  3.93589051e-03,  9.89755293e-01, -1.40615484e+00,\n",
       "        4.29366134e-01,  6.42640360e-01,  1.44373891e+00, -3.51028607e-01,\n",
       "        9.73959036e-02,  1.25451611e+00, -1.25599163e-01,  1.71268460e+00,\n",
       "       -3.12854947e-01,  2.78372870e-01,  2.11370699e-01,  4.65306314e-02,\n",
       "        1.25833097e+00, -6.48376343e-01, -7.02431044e-01,  4.52942984e-01,\n",
       "       -1.51842494e+00,  3.01373654e-01, -1.90231467e+00,  3.29181154e-01,\n",
       "        1.02977581e-01, -1.21949785e+00,  6.27699206e-01,  1.24056855e+00,\n",
       "        1.89443507e+00,  1.24763444e+00,  6.28209764e-02,  2.53764906e+00,\n",
       "        5.41260694e-01,  1.41787355e+00, -1.16822408e+00,  1.71009062e+00,\n",
       "       -4.69884135e-02, -9.18959426e-01,  1.55011880e+00,  1.36699394e+00,\n",
       "        1.60334837e+00,  1.14828228e+00, -1.65159765e-01,  9.11289423e-01,\n",
       "        4.85216027e-01,  1.14674738e+00, -1.46185746e-01,  1.51969359e+00,\n",
       "       -9.18781996e-01,  2.63980494e-01,  1.59204039e+00, -6.61237028e-01,\n",
       "        5.64612542e-01, -7.02624974e-01,  1.30667315e+00, -4.64695636e-01,\n",
       "       -4.76963563e-02, -7.25309683e-01, -1.98973436e-01, -5.90887497e-01,\n",
       "       -9.34144886e-01, -9.67806521e-02,  1.66794323e+00, -1.35892006e+00,\n",
       "        8.54959914e-01,  1.12193044e+00, -8.60641943e-01, -3.59797429e-02,\n",
       "        6.19617583e-02, -5.23306093e-01, -5.92997208e-01, -2.20790407e+00,\n",
       "        9.16254898e-01, -3.34401804e-01, -2.13530082e+00, -7.55165103e-03,\n",
       "        1.81535666e+00, -8.12712083e-01, -7.02663917e-01,  4.09624318e-02,\n",
       "       -1.36803413e+00,  2.41116051e-01, -4.61198381e-01, -1.08207278e+00,\n",
       "        1.18558648e+00, -7.18880796e-01,  1.54894265e+00,  1.48207939e+00,\n",
       "       -9.43350556e-01, -1.51472252e+00,  3.01141944e-01,  5.37495479e-01,\n",
       "       -2.32695243e-01,  7.92334416e-01,  3.46838929e-01, -7.56892149e-01,\n",
       "       -1.41183954e+00, -1.77160805e-01, -1.80466552e-01, -1.93409277e+00,\n",
       "       -1.49240177e+00,  7.21355794e-02,  7.12454929e-01, -5.23145859e-01,\n",
       "        5.46821566e-01, -4.51457081e-01, -3.15309047e-01, -6.22082306e-01,\n",
       "       -7.74062543e-01, -1.81967457e-03, -1.60446695e+00,  1.13288193e-01,\n",
       "       -9.19895027e-01,  4.31427998e-02,  1.17365299e+00,  4.72159423e-01,\n",
       "       -1.60715367e+00, -6.62614703e-01, -1.47384392e+00,  8.98370666e-01,\n",
       "       -1.46540043e+00,  1.19853492e+00, -1.49068051e+00,  2.50053915e-01,\n",
       "        4.36683590e-01, -1.68027735e+00, -5.07356333e-01, -1.17431211e+00,\n",
       "        5.61076177e-01,  8.68761666e-01, -1.14015977e-01,  3.35251743e-01,\n",
       "        1.89576590e-01,  2.01800963e+00, -9.97405497e-01,  1.12506376e+00,\n",
       "       -6.46858064e-02,  7.04806612e-01, -6.51407782e-01,  1.19205319e+00,\n",
       "       -3.64897109e-02, -9.30694553e-01,  3.59184379e-01,  2.04428430e+00,\n",
       "        2.66508694e-01, -6.81756986e-01, -2.13446398e+00, -8.55401287e-01,\n",
       "       -4.68173306e-01, -2.21432484e-01, -5.62915367e-01, -1.11597565e+00,\n",
       "       -3.87770548e-01, -5.81447455e-01, -2.32480522e+00, -9.94169397e-01,\n",
       "       -8.47226682e-01,  5.17135662e-02, -8.30000991e-01, -5.75063153e-01,\n",
       "        1.08469657e+00, -7.00212251e-01,  9.33390101e-01,  8.70075733e-02,\n",
       "        7.36986611e-01,  1.30122905e-01, -1.67398285e-01, -1.83731138e-01,\n",
       "        8.88939869e-01, -3.26230293e-01, -1.09680247e+00, -1.44436026e+00,\n",
       "       -2.02462512e-01,  4.91740136e-01,  6.40654594e-01,  2.04155797e+00,\n",
       "        2.38718389e-01,  1.01303406e+00,  8.85875695e-01,  1.54741678e+00,\n",
       "       -4.67507722e-01, -7.90035297e-02,  7.76962932e-02,  5.58117639e-01,\n",
       "        3.59616494e-01,  9.26510002e-03,  1.12744804e-02, -7.57845912e-02,\n",
       "        9.27798699e-01, -1.66885368e-01,  3.03353458e-01,  5.73391363e-01,\n",
       "        1.90539218e+00, -5.55892893e-02,  7.59239458e-01, -1.94795818e+00,\n",
       "        1.59386397e-02, -5.56939674e-01,  9.38453974e-01, -3.63319309e-01,\n",
       "        4.03987137e-01, -7.65971287e-01,  3.28042876e-01, -4.06985767e-01,\n",
       "        2.50152369e+00,  9.13610544e-01, -1.33684698e+00,  1.39216818e+00,\n",
       "       -1.67643358e+00,  2.00984649e+00,  5.11991339e-01,  3.08924623e-01,\n",
       "       -1.27951977e+00,  3.93182297e-01, -1.43382011e+00,  3.75769436e-01,\n",
       "       -1.12168188e-01, -1.05130196e+00, -8.88349465e-02, -3.31857337e-01,\n",
       "       -4.42539761e-01, -1.09687288e+00,  7.71715567e-01,  9.07993842e-01,\n",
       "       -1.78918578e+00,  1.39070200e+00,  1.89365489e-01, -6.70752469e-01,\n",
       "        7.84514139e-01, -1.42584701e+00, -1.21305477e+00,  4.47593584e-01,\n",
       "        1.50742774e+00, -2.68105023e-01, -5.67202910e-01, -1.48859799e+00,\n",
       "        5.64842466e-01,  1.07598230e-01, -1.94499291e-01, -9.98637404e-01,\n",
       "       -1.88822204e+00,  3.35940683e-01, -7.61191486e-01, -9.35236554e-03,\n",
       "       -2.50234723e-01, -7.87283375e-01,  5.09214978e-01,  4.84543088e-01,\n",
       "       -2.28160755e-01, -3.22924345e-01, -1.85406111e+00, -5.17571588e-01,\n",
       "        1.27424584e+00,  6.87489372e-01, -1.00572389e+00, -2.02303335e-01,\n",
       "        1.19879022e-01, -2.90561726e-01, -2.67929827e-02, -1.03331337e-01,\n",
       "       -4.78088705e-01,  3.11915931e-01, -3.91568021e-01, -4.34001587e-01,\n",
       "       -6.65258344e-01, -2.37180510e-01, -9.68080484e-02,  1.51226467e+00,\n",
       "        9.08255464e-01,  1.00092469e+00,  8.81101530e-01, -8.01879009e-01,\n",
       "        1.04865496e+00,  7.62499087e-01, -8.41384678e-03, -1.81202920e+00,\n",
       "       -1.26184121e+00, -1.82120874e-02,  7.32722534e-01, -8.52944329e-01,\n",
       "        3.66601094e-01,  4.33844392e-01,  1.07639209e+00, -1.24115113e+00,\n",
       "       -7.11957205e-02,  1.39344871e+00,  3.39328173e-01,  5.43034225e-02,\n",
       "        2.38620099e+00, -9.27417874e-01, -1.50167506e+00, -5.75446730e-02,\n",
       "       -1.76486787e+00, -1.18900223e+00,  1.00020607e+00,  4.03345210e-01,\n",
       "        1.23799221e-01,  3.86255430e-01,  1.11833509e+00,  1.65318116e+00,\n",
       "        1.07754830e+00, -4.91258170e-01, -3.52440755e-01,  1.33147602e+00,\n",
       "        9.41844448e-01, -1.64447433e+00, -3.47492425e-01,  4.67738508e-01,\n",
       "       -3.59632162e-01, -7.56205968e-01,  9.02415878e-01, -2.68467197e+00,\n",
       "       -2.25263737e-01,  5.85946537e-01, -7.90833031e-01,  1.56857177e-02,\n",
       "       -1.26363731e+00, -1.08152163e+00,  6.08516732e-01, -1.28488114e+00,\n",
       "        1.95332762e-01, -6.02953023e-01,  1.19684156e-01,  5.02046895e-01,\n",
       "       -3.88962506e-01,  7.92196878e-02,  6.89560650e-01,  7.29060247e-01,\n",
       "        1.35883222e+00,  1.85767437e-02, -1.38789381e+00, -7.63616180e-01,\n",
       "        8.66222402e-01,  6.46833966e-01, -6.37119705e-01,  1.24835561e+00,\n",
       "       -1.65844481e-01,  5.96771077e-01,  7.67126139e-01,  6.61806603e-02,\n",
       "       -4.17045003e-01,  2.91747595e-02, -6.70864364e-01,  4.57932567e-01,\n",
       "       -7.77825814e-02, -1.65553837e+00, -2.65225985e-01, -2.10438459e-01,\n",
       "        1.13930323e+00,  1.80554689e+00, -9.72035538e-02, -1.62535182e+00,\n",
       "        2.66797805e-01,  1.81720680e-01,  8.67172035e-01,  1.81927510e+00,\n",
       "       -5.06339739e-01,  2.02403132e+00,  4.45545555e-02, -3.53943963e-01,\n",
       "       -1.59362935e+00, -5.17388061e-01, -3.40118933e-01, -7.54192794e-02,\n",
       "       -1.39894308e+00,  2.67938595e-01, -1.23425905e+00, -3.07726578e-01,\n",
       "        4.75977748e-01, -3.20664023e-01, -6.56558670e-01, -6.29161125e-01,\n",
       "       -8.89554957e-02, -1.28784759e+00, -5.12692058e-01, -9.21325493e-01,\n",
       "       -2.45862406e+00,  6.70611274e-01, -1.83709053e+00, -4.94166373e-02,\n",
       "        5.19292436e-01,  1.09286441e+00,  8.75929994e-01,  1.77107410e+00,\n",
       "        1.64794114e-01, -9.47911402e-01,  1.74725504e-01,  7.46845329e-01,\n",
       "       -2.23324867e+00, -6.52769163e-01, -2.73962499e+00, -7.07677202e-01,\n",
       "       -9.64713802e-02, -1.59547040e+00, -7.62952841e-01,  7.29490334e-01,\n",
       "       -5.13790367e-02,  4.36419141e-01, -5.38877066e-01,  9.52471697e-01,\n",
       "        9.97490046e-02,  1.89448249e-01,  5.78877600e-01,  5.89591981e-01,\n",
       "        6.72161634e-02,  6.40610609e-01, -1.18740320e+00,  3.15382679e-01,\n",
       "       -5.50167469e-02, -2.39145975e+00, -1.66304679e+00, -5.71756695e-01,\n",
       "       -3.40072241e-01,  1.38868968e+00, -5.32967013e-02,  1.03313555e+00,\n",
       "        1.88852464e+00,  1.80941256e+00,  2.72406599e-01,  4.89284430e-02,\n",
       "        5.49081916e-01, -1.16390428e+00,  2.71632770e+00, -3.86820313e-02,\n",
       "       -4.05026607e-01,  2.51062164e-01,  5.36173627e-01,  7.49382748e-01,\n",
       "       -1.13118915e+00,  1.04387695e+00, -9.54112402e-02, -5.10677623e-01,\n",
       "       -6.23384862e-01,  5.74364437e-01, -4.78093886e-01,  1.43463358e-01,\n",
       "        9.30272936e-01, -1.29496528e+00,  8.53310516e-01, -1.38985291e+00,\n",
       "       -5.81983800e-01,  5.11770099e-01,  6.72470057e-01,  8.28787096e-01,\n",
       "        9.50982125e-02,  3.03726477e-01, -1.54720970e+00,  3.97698500e-01,\n",
       "       -4.58533693e-01,  1.02730404e+00,  5.09673075e-01, -5.70224212e-01,\n",
       "        1.47422150e+00, -1.49486391e+00,  1.49588038e+00, -9.91692904e-03,\n",
       "        6.04673400e-01, -5.96484730e-01, -4.33467791e-01, -6.64362153e-01,\n",
       "       -6.02571899e-01,  3.85443550e-01,  3.99372324e-01, -2.50676424e-01,\n",
       "       -1.23783903e+00,  1.78442863e+00,  1.25441395e+00,  5.02705586e-01,\n",
       "       -7.74956184e-01, -1.51182752e-01, -1.10495451e+00,  9.96103313e-01,\n",
       "        2.15963044e-01,  7.73044777e-01, -5.82898651e-01,  2.11543259e-01,\n",
       "       -8.80361063e-02, -2.49680873e-01, -8.50860642e-02,  4.58127112e-01,\n",
       "       -3.15775988e-01,  1.14037975e+00,  1.06213989e+00, -1.06514820e+00,\n",
       "       -7.37438413e-01,  2.02294249e-01, -2.14909689e+00,  1.67469215e-01,\n",
       "       -1.80402762e+00, -2.62325850e-01,  1.49633004e-01,  7.30806892e-02,\n",
       "        3.52778884e-01,  5.26001080e-01,  2.16610637e+00, -1.42394758e+00,\n",
       "        5.60772762e-01,  2.77387297e-02,  9.04469199e-03,  6.10356153e-01,\n",
       "        7.19463438e-01,  7.89407511e-01, -5.02410559e-01, -1.25398472e+00,\n",
       "       -1.56474137e+00, -2.24842271e+00, -6.19525717e-02, -1.92535679e+00,\n",
       "       -1.46944318e+00,  9.63743770e-01,  1.95294382e-01, -7.29466425e-01,\n",
       "        5.82320161e-01, -1.19290835e-01, -1.55143221e+00,  5.65032699e-02,\n",
       "        3.94928913e-01, -6.07011242e-01, -5.78529544e-01, -3.21733182e-01,\n",
       "        2.50940400e+00,  1.62832470e+00,  1.07114933e+00, -4.98693575e-01,\n",
       "       -1.38336234e+00,  1.52462946e+00, -7.87107647e-01,  6.02444392e-01,\n",
       "        2.43336765e-01,  6.32467888e-01,  8.19617755e-01,  2.11870633e+00,\n",
       "        1.06393292e+00,  7.06285924e-01, -3.00914577e-01,  4.51202861e-01,\n",
       "        7.29841313e-01,  2.90629737e-01,  9.19062879e-01, -1.15391594e+00,\n",
       "        4.61147281e-01,  5.65172647e-01, -4.23569075e-02,  1.06054328e+00,\n",
       "       -2.24337724e+00,  1.54728828e-01, -6.51921245e-01, -1.74187445e+00,\n",
       "        8.21087019e-01,  2.58876718e-01,  1.13114166e+00, -1.35006323e+00,\n",
       "        1.39276472e-01, -2.45454477e+00, -1.09555867e+00,  1.83805372e+00,\n",
       "        4.78692958e-01,  5.69059931e-01,  1.04510714e-01,  3.05774244e-01,\n",
       "        1.10545046e+00,  2.10547066e+00,  4.40473241e-02, -4.37587586e-01,\n",
       "        5.95327356e-01,  1.30310791e-01, -1.13510201e-01, -8.20360258e-02])"
      ]
     },
     "execution_count": 18,
     "metadata": {},
     "output_type": "execute_result"
    }
   ],
   "source": [
    "# generating random numbers from a gaussian distribution\n",
    "from numpy.random import randn # random is sub module in numpy, used to generate numbers that follow normal distribution\n",
    "pop = randn(1000)\n",
    "pop"
   ]
  },
  {
   "cell_type": "code",
   "execution_count": 28,
   "id": "4e0a6d06",
   "metadata": {},
   "outputs": [
    {
     "name": "stderr",
     "output_type": "stream",
     "text": [
      "C:\\ProgramData\\anaconda3\\Lib\\site-packages\\seaborn\\_oldcore.py:1119: FutureWarning: use_inf_as_na option is deprecated and will be removed in a future version. Convert inf values to NaN before operating instead.\n",
      "  with pd.option_context('mode.use_inf_as_na', True):\n"
     ]
    },
    {
     "data": {
      "text/plain": [
       "<Axes: ylabel='Count'>"
      ]
     },
     "execution_count": 28,
     "metadata": {},
     "output_type": "execute_result"
    },
    {
     "data": {
      "image/png": "[encoded data removed]",
      "text/plain": [
       "<Figure size 640x480 with 1 Axes>"
      ]
     },
     "metadata": {},
     "output_type": "display_data"
    }
   ],
   "source": [
    "sns.histplot(pop, kde=True, bins=10)"
   ]
  },
  {
   "cell_type": "code",
   "execution_count": 29,
   "id": "d8f78756",
   "metadata": {},
   "outputs": [
    {
     "data": {
      "text/plain": [
       "10"
      ]
     },
     "execution_count": 29,
     "metadata": {},
     "output_type": "execute_result"
    }
   ],
   "source": [
    "sam_size = int(len(pop)*0.01)\n",
    "sam_size"
   ]
  },
  {
   "cell_type": "code",
   "execution_count": 30,
   "id": "93dd8820",
   "metadata": {},
   "outputs": [],
   "source": [
    "def sam_stats(sams):\n",
    "    \n",
    "    mean = np.mean(sams)\n",
    "    variance = np.var(sams)\n",
    "    standard_deviation = np.std(sams)\n",
    "    \n",
    "    return {\"mean\": mean, \"variance\": variance, \"standard deviation\":standard_deviation}"
   ]
  },
  {
   "cell_type": "code",
   "execution_count": 31,
   "id": "16548015",
   "metadata": {},
   "outputs": [
    {
     "name": "stdout",
     "output_type": "stream",
     "text": [
      "Normal Distribution Stats: {'mean': 0.039021263811040825, 'variance': 0.9770406857776575, 'standard deviation': 0.9884536841843716}\n"
     ]
    }
   ],
   "source": [
    "sample_stats = sam_stats(pop)\n",
    "print(\"Normal Distribution Stats:\", sample_stats)"
   ]
  },
  {
   "cell_type": "markdown",
   "id": "f4d9000a",
   "metadata": {},
   "source": [
    "# Q7. Use seaborn library to load `tips` dataset. Find the following from the dataset for the columns `total_bill` and `tip`:\n",
    "\n",
    " (i) Write a Python function that calculates their skewness.\n",
    " \n",
    " (ii) Create a program that determines whether the columns exhibit positive skewness, negative skewness, or is approximately symmetric.\n",
    " \n",
    "(iii) Write a function that calculates the covariance between two columns.\n",
    "\n",
    " (iv) Implement a Python program that calculates the Pearson correlation coefficient between two columns.\n",
    " \n",
    " (v) Write a script to visualize the correlation between two specific columns in a Pandas DataFrame using \n",
    "scatter plots."
   ]
  },
  {
   "cell_type": "code",
   "execution_count": 32,
   "id": "38325d7b",
   "metadata": {},
   "outputs": [],
   "source": [
    "data = sns.load_dataset('tips')"
   ]
  },
  {
   "cell_type": "code",
   "execution_count": 33,
   "id": "69354bf1",
   "metadata": {},
   "outputs": [
    {
     "data": {
      "text/html": [
       "<div>\n",
       "<style scoped>\n",
       "    .dataframe tbody tr th:only-of-type {\n",
       "        vertical-align: middle;\n",
       "    }\n",
       "\n",
       "    .dataframe tbody tr th {\n",
       "        vertical-align: top;\n",
       "    }\n",
       "\n",
       "    .dataframe thead th {\n",
       "        text-align: right;\n",
       "    }\n",
       "</style>\n",
       "<table border=\"1\" class=\"dataframe\">\n",
       "  <thead>\n",
       "    <tr style=\"text-align: right;\">\n",
       "      <th></th>\n",
       "      <th>total_bill</th>\n",
       "      <th>tip</th>\n",
       "      <th>sex</th>\n",
       "      <th>smoker</th>\n",
       "      <th>day</th>\n",
       "      <th>time</th>\n",
       "      <th>size</th>\n",
       "    </tr>\n",
       "  </thead>\n",
       "  <tbody>\n",
       "    <tr>\n",
       "      <th>0</th>\n",
       "      <td>16.99</td>\n",
       "      <td>1.01</td>\n",
       "      <td>Female</td>\n",
       "      <td>No</td>\n",
       "      <td>Sun</td>\n",
       "      <td>Dinner</td>\n",
       "      <td>2</td>\n",
       "    </tr>\n",
       "    <tr>\n",
       "      <th>1</th>\n",
       "      <td>10.34</td>\n",
       "      <td>1.66</td>\n",
       "      <td>Male</td>\n",
       "      <td>No</td>\n",
       "      <td>Sun</td>\n",
       "      <td>Dinner</td>\n",
       "      <td>3</td>\n",
       "    </tr>\n",
       "    <tr>\n",
       "      <th>2</th>\n",
       "      <td>21.01</td>\n",
       "      <td>3.50</td>\n",
       "      <td>Male</td>\n",
       "      <td>No</td>\n",
       "      <td>Sun</td>\n",
       "      <td>Dinner</td>\n",
       "      <td>3</td>\n",
       "    </tr>\n",
       "    <tr>\n",
       "      <th>3</th>\n",
       "      <td>23.68</td>\n",
       "      <td>3.31</td>\n",
       "      <td>Male</td>\n",
       "      <td>No</td>\n",
       "      <td>Sun</td>\n",
       "      <td>Dinner</td>\n",
       "      <td>2</td>\n",
       "    </tr>\n",
       "    <tr>\n",
       "      <th>4</th>\n",
       "      <td>24.59</td>\n",
       "      <td>3.61</td>\n",
       "      <td>Female</td>\n",
       "      <td>No</td>\n",
       "      <td>Sun</td>\n",
       "      <td>Dinner</td>\n",
       "      <td>4</td>\n",
       "    </tr>\n",
       "    <tr>\n",
       "      <th>...</th>\n",
       "      <td>...</td>\n",
       "      <td>...</td>\n",
       "      <td>...</td>\n",
       "      <td>...</td>\n",
       "      <td>...</td>\n",
       "      <td>...</td>\n",
       "      <td>...</td>\n",
       "    </tr>\n",
       "    <tr>\n",
       "      <th>239</th>\n",
       "      <td>29.03</td>\n",
       "      <td>5.92</td>\n",
       "      <td>Male</td>\n",
       "      <td>No</td>\n",
       "      <td>Sat</td>\n",
       "      <td>Dinner</td>\n",
       "      <td>3</td>\n",
       "    </tr>\n",
       "    <tr>\n",
       "      <th>240</th>\n",
       "      <td>27.18</td>\n",
       "      <td>2.00</td>\n",
       "      <td>Female</td>\n",
       "      <td>Yes</td>\n",
       "      <td>Sat</td>\n",
       "      <td>Dinner</td>\n",
       "      <td>2</td>\n",
       "    </tr>\n",
       "    <tr>\n",
       "      <th>241</th>\n",
       "      <td>22.67</td>\n",
       "      <td>2.00</td>\n",
       "      <td>Male</td>\n",
       "      <td>Yes</td>\n",
       "      <td>Sat</td>\n",
       "      <td>Dinner</td>\n",
       "      <td>2</td>\n",
       "    </tr>\n",
       "    <tr>\n",
       "      <th>242</th>\n",
       "      <td>17.82</td>\n",
       "      <td>1.75</td>\n",
       "      <td>Male</td>\n",
       "      <td>No</td>\n",
       "      <td>Sat</td>\n",
       "      <td>Dinner</td>\n",
       "      <td>2</td>\n",
       "    </tr>\n",
       "    <tr>\n",
       "      <th>243</th>\n",
       "      <td>18.78</td>\n",
       "      <td>3.00</td>\n",
       "      <td>Female</td>\n",
       "      <td>No</td>\n",
       "      <td>Thur</td>\n",
       "      <td>Dinner</td>\n",
       "      <td>2</td>\n",
       "    </tr>\n",
       "  </tbody>\n",
       "</table>\n",
       "<p>244 rows × 7 columns</p>\n",
       "</div>"
      ],
      "text/plain": [
       "     total_bill   tip     sex smoker   day    time  size\n",
       "0         16.99  1.01  Female     No   Sun  Dinner     2\n",
       "1         10.34  1.66    Male     No   Sun  Dinner     3\n",
       "2         21.01  3.50    Male     No   Sun  Dinner     3\n",
       "3         23.68  3.31    Male     No   Sun  Dinner     2\n",
       "4         24.59  3.61  Female     No   Sun  Dinner     4\n",
       "..          ...   ...     ...    ...   ...     ...   ...\n",
       "239       29.03  5.92    Male     No   Sat  Dinner     3\n",
       "240       27.18  2.00  Female    Yes   Sat  Dinner     2\n",
       "241       22.67  2.00    Male    Yes   Sat  Dinner     2\n",
       "242       17.82  1.75    Male     No   Sat  Dinner     2\n",
       "243       18.78  3.00  Female     No  Thur  Dinner     2\n",
       "\n",
       "[244 rows x 7 columns]"
      ]
     },
     "execution_count": 33,
     "metadata": {},
     "output_type": "execute_result"
    }
   ],
   "source": [
    "data"
   ]
  },
  {
   "cell_type": "code",
   "execution_count": 36,
   "id": "efe6b45b",
   "metadata": {},
   "outputs": [
    {
     "data": {
      "text/html": [
       "<div>\n",
       "<style scoped>\n",
       "    .dataframe tbody tr th:only-of-type {\n",
       "        vertical-align: middle;\n",
       "    }\n",
       "\n",
       "    .dataframe tbody tr th {\n",
       "        vertical-align: top;\n",
       "    }\n",
       "\n",
       "    .dataframe thead th {\n",
       "        text-align: right;\n",
       "    }\n",
       "</style>\n",
       "<table border=\"1\" class=\"dataframe\">\n",
       "  <thead>\n",
       "    <tr style=\"text-align: right;\">\n",
       "      <th></th>\n",
       "      <th>total_bill</th>\n",
       "      <th>tip</th>\n",
       "    </tr>\n",
       "  </thead>\n",
       "  <tbody>\n",
       "    <tr>\n",
       "      <th>0</th>\n",
       "      <td>16.99</td>\n",
       "      <td>1.01</td>\n",
       "    </tr>\n",
       "    <tr>\n",
       "      <th>1</th>\n",
       "      <td>10.34</td>\n",
       "      <td>1.66</td>\n",
       "    </tr>\n",
       "    <tr>\n",
       "      <th>2</th>\n",
       "      <td>21.01</td>\n",
       "      <td>3.50</td>\n",
       "    </tr>\n",
       "    <tr>\n",
       "      <th>3</th>\n",
       "      <td>23.68</td>\n",
       "      <td>3.31</td>\n",
       "    </tr>\n",
       "    <tr>\n",
       "      <th>4</th>\n",
       "      <td>24.59</td>\n",
       "      <td>3.61</td>\n",
       "    </tr>\n",
       "    <tr>\n",
       "      <th>...</th>\n",
       "      <td>...</td>\n",
       "      <td>...</td>\n",
       "    </tr>\n",
       "    <tr>\n",
       "      <th>239</th>\n",
       "      <td>29.03</td>\n",
       "      <td>5.92</td>\n",
       "    </tr>\n",
       "    <tr>\n",
       "      <th>240</th>\n",
       "      <td>27.18</td>\n",
       "      <td>2.00</td>\n",
       "    </tr>\n",
       "    <tr>\n",
       "      <th>241</th>\n",
       "      <td>22.67</td>\n",
       "      <td>2.00</td>\n",
       "    </tr>\n",
       "    <tr>\n",
       "      <th>242</th>\n",
       "      <td>17.82</td>\n",
       "      <td>1.75</td>\n",
       "    </tr>\n",
       "    <tr>\n",
       "      <th>243</th>\n",
       "      <td>18.78</td>\n",
       "      <td>3.00</td>\n",
       "    </tr>\n",
       "  </tbody>\n",
       "</table>\n",
       "<p>244 rows × 2 columns</p>\n",
       "</div>"
      ],
      "text/plain": [
       "     total_bill   tip\n",
       "0         16.99  1.01\n",
       "1         10.34  1.66\n",
       "2         21.01  3.50\n",
       "3         23.68  3.31\n",
       "4         24.59  3.61\n",
       "..          ...   ...\n",
       "239       29.03  5.92\n",
       "240       27.18  2.00\n",
       "241       22.67  2.00\n",
       "242       17.82  1.75\n",
       "243       18.78  3.00\n",
       "\n",
       "[244 rows x 2 columns]"
      ]
     },
     "execution_count": 36,
     "metadata": {},
     "output_type": "execute_result"
    }
   ],
   "source": [
    "data[['total_bill', 'tip']]"
   ]
  },
  {
   "cell_type": "code",
   "execution_count": 37,
   "id": "580541f6",
   "metadata": {},
   "outputs": [],
   "source": [
    "# (i) function that calculates their skewness\n",
    "from scipy.stats import skew  # For calculating skewness"
   ]
  },
  {
   "cell_type": "code",
   "execution_count": 38,
   "id": "39c60b26",
   "metadata": {},
   "outputs": [],
   "source": [
    "def calculate_skewness(column):\n",
    "    return skew(column) # The skew function from scipy.stats calculates skewness"
   ]
  },
  {
   "cell_type": "code",
   "execution_count": 40,
   "id": "2188dd1a",
   "metadata": {},
   "outputs": [],
   "source": [
    "total_bill_skewness = calculate_skewness(data['total_bill'])\n",
    "tip_skewness = calculate_skewness(data['tip'])"
   ]
  },
  {
   "cell_type": "code",
   "execution_count": 41,
   "id": "96752e8b",
   "metadata": {},
   "outputs": [
    {
     "name": "stdout",
     "output_type": "stream",
     "text": [
      "Skewness of 'total_bill': 1.1262346334818638\n",
      "Skewness of 'tip': 1.4564266884221506\n"
     ]
    }
   ],
   "source": [
    "print(\"Skewness of 'total_bill':\", total_bill_skewness)\n",
    "print(\"Skewness of 'tip':\", tip_skewness)"
   ]
  },
  {
   "cell_type": "code",
   "execution_count": 42,
   "id": "05e9a170",
   "metadata": {},
   "outputs": [
    {
     "name": "stdout",
     "output_type": "stream",
     "text": [
      "Skewness Type of 'total_bill': Positive Skewness\n",
      "Skewness Type of 'tip': Positive Skewness\n"
     ]
    }
   ],
   "source": [
    "# (ii) program to determines if the columns exhibit positive skewness, negative skewness, or is approximately symmetric\n",
    "\n",
    "# Skewness measures the asymmetry of the data distribution.\n",
    "# Positive skew: Tail on the right.\n",
    "# Negative skew: Tail on the left.\n",
    "\n",
    "def skewness_type(column):\n",
    "    \n",
    "    skewness_value = skew(column)\n",
    "    if skewness_value > 0:\n",
    "        return \"Positive Skewness\"\n",
    "    elif skewness_value < 0:\n",
    "        return \"Negative Skewness\"\n",
    "    else:\n",
    "        return \"Approximately Symmetric\"\n",
    "    \n",
    "total_bill_skew_type = skewness_type(data['total_bill'])\n",
    "tip_skew_type = skewness_type(data['tip'])\n",
    "\n",
    "print(\"Skewness Type of 'total_bill':\", total_bill_skew_type)\n",
    "print(\"Skewness Type of 'tip':\", tip_skew_type)"
   ]
  },
  {
   "cell_type": "code",
   "execution_count": 43,
   "id": "5c993972",
   "metadata": {},
   "outputs": [],
   "source": [
    "# (iii) function that calculates the covariance between two columns\n",
    "\n",
    "import math"
   ]
  },
  {
   "cell_type": "code",
   "execution_count": 48,
   "id": "3422470b",
   "metadata": {},
   "outputs": [
    {
     "name": "stdout",
     "output_type": "stream",
     "text": [
      "            total_bill       tip\n",
      "total_bill   79.252939  8.323502\n",
      "tip           8.323502  1.914455\n"
     ]
    }
   ],
   "source": [
    "columns = data[['total_bill', 'tip']]\n",
    "\n",
    "def calc_cov(cols):\n",
    "    return cols.cov()\n",
    "\n",
    "col_cov = calc_cov(columns)\n",
    "print(col_cov)"
   ]
  },
  {
   "cell_type": "code",
   "execution_count": 49,
   "id": "f4f0f9b9",
   "metadata": {},
   "outputs": [],
   "source": [
    "# (iv) Python program that calculates the Pearson correlation coefficient between two columns\n",
    "\n",
    "from scipy.stats import pearsonr"
   ]
  },
  {
   "cell_type": "code",
   "execution_count": 50,
   "id": "b8609959",
   "metadata": {},
   "outputs": [
    {
     "name": "stdout",
     "output_type": "stream",
     "text": [
      "Pearson Correlation Coefficient between 'total_bill' and 'tip': 0.6757341092113645\n"
     ]
    }
   ],
   "source": [
    "def calculate_pearson_correlation(column1, column2):\n",
    "    correlation, _ = pearsonr(column1, column2)\n",
    "    return correlation\n",
    "\n",
    "pearson_corr = calculate_pearson_correlation(data['total_bill'], data['tip'])\n",
    "print(\"Pearson Correlation Coefficient between 'total_bill' and 'tip':\", pearson_corr)"
   ]
  },
  {
   "cell_type": "code",
   "execution_count": 51,
   "id": "55b03d05",
   "metadata": {},
   "outputs": [],
   "source": [
    "# (v)  visualize the correlation between two specific columns in a Pandas DataFrame using scatter plots\n",
    "\n",
    "import matplotlib.pyplot as plt"
   ]
  },
  {
   "cell_type": "code",
   "execution_count": 52,
   "id": "e891ffb5",
   "metadata": {},
   "outputs": [
    {
     "data": {
      "image/png": "[encoded data removed]",
      "text/plain": [
       "<Figure size 800x600 with 1 Axes>"
      ]
     },
     "metadata": {},
     "output_type": "display_data"
    }
   ],
   "source": [
    "x_column = 'total_bill'\n",
    "y_column = 'tip'\n",
    "plt.figure(figsize=(8, 6))\n",
    "sns.scatterplot(data=data, x=x_column, y=y_column, hue='day', style='time', palette='viridis')\n",
    "plt.xlabel('Total Bill ($)')\n",
    "plt.ylabel('Tip ($)')\n",
    "plt.title('Scatter Plot of Total Bill vs Tip')\n",
    "plt.show()"
   ]
  },
  {
   "cell_type": "markdown",
   "id": "777c562a",
   "metadata": {},
   "source": [
    "# Q8. Write a Python function to calculate the probability density function (PDF) of a continuous random variable for a given normal distribution."
   ]
  },
  {
   "cell_type": "code",
   "execution_count": 53,
   "id": "c2ad70a5",
   "metadata": {},
   "outputs": [],
   "source": [
    "from scipy.stats import norm"
   ]
  },
  {
   "cell_type": "code",
   "execution_count": 54,
   "id": "b9c5c06d",
   "metadata": {},
   "outputs": [
    {
     "data": {
      "text/plain": [
       "array([ 0.84682097, -0.36105637,  0.0689451 , -1.69778327,  0.08761054,\n",
       "       -1.04206161,  0.2822986 , -1.60539028, -0.14803008, -0.7198154 ,\n",
       "       -0.13239836, -0.91684391, -0.83020493,  0.74059703, -0.89239261,\n",
       "        0.72976691, -1.77951517,  0.95580267,  0.05977997,  1.11501851,\n",
       "       -0.88323215, -0.19539117,  0.78308216, -0.71317189,  0.90636202,\n",
       "        1.63101277,  0.57493572, -0.00320607,  2.16830009,  0.26431038,\n",
       "       -1.003513  , -1.38071915, -0.60356081, -0.98242435,  0.15582569,\n",
       "        1.79722608, -2.24286946, -1.07641709,  0.25227283, -1.37329084,\n",
       "       -1.18937672,  0.15860601, -0.95732795,  0.39785633, -0.89104273,\n",
       "        2.06813045,  1.69160083,  1.19781663, -0.41831263, -0.10109015,\n",
       "       -0.391371  , -0.73962046,  1.51433661, -1.10734594,  1.04788957,\n",
       "        0.50002396, -0.31102015, -0.48340031,  0.74741663, -0.34877999,\n",
       "       -0.35297296, -0.08018197,  1.33385572,  1.04708813,  0.05470304,\n",
       "       -0.57622806,  1.8061798 , -0.1048473 ,  0.0895254 , -0.43452265,\n",
       "       -0.93648132,  1.83343501,  0.19780485,  0.37915694,  0.38264085,\n",
       "        0.71931356,  0.13948535, -0.17796212,  0.04355384, -0.12750726,\n",
       "        0.80310441,  1.58409938, -0.06068968,  0.2180503 ,  0.8810919 ,\n",
       "        1.77422614,  0.25806961,  0.59134762,  0.26386873,  0.26285539,\n",
       "        0.06111661, -0.43655371, -0.16840225, -1.25278924,  0.26541439,\n",
       "        0.96658622, -0.2375146 ,  1.1326252 , -0.6747784 ,  0.75803793])"
      ]
     },
     "execution_count": 54,
     "metadata": {},
     "output_type": "execute_result"
    }
   ],
   "source": [
    "# generate data that follows normal distribution\n",
    "norm_data = randn(100)\n",
    "norm_data"
   ]
  },
  {
   "cell_type": "code",
   "execution_count": 55,
   "id": "5a7cbc62",
   "metadata": {},
   "outputs": [
    {
     "name": "stderr",
     "output_type": "stream",
     "text": [
      "C:\\ProgramData\\anaconda3\\Lib\\site-packages\\seaborn\\_oldcore.py:1119: FutureWarning: use_inf_as_na option is deprecated and will be removed in a future version. Convert inf values to NaN before operating instead.\n",
      "  with pd.option_context('mode.use_inf_as_na', True):\n"
     ]
    },
    {
     "data": {
      "text/plain": [
       "<Axes: ylabel='Count'>"
      ]
     },
     "execution_count": 55,
     "metadata": {},
     "output_type": "execute_result"
    },
    {
     "data": {
      "image/png": "[encoded data removed]",
      "text/plain": [
       "<Figure size 640x480 with 1 Axes>"
      ]
     },
     "metadata": {},
     "output_type": "display_data"
    }
   ],
   "source": [
    "sns.histplot(norm_data, kde=True, bins=10)"
   ]
  },
  {
   "cell_type": "code",
   "execution_count": 57,
   "id": "9bf633eb",
   "metadata": {},
   "outputs": [
    {
     "data": {
      "text/plain": [
       "10"
      ]
     },
     "execution_count": 57,
     "metadata": {},
     "output_type": "execute_result"
    }
   ],
   "source": [
    "# take samples\n",
    "sample = int(len(pop)*0.01)\n",
    "sample"
   ]
  },
  {
   "cell_type": "code",
   "execution_count": 66,
   "id": "bc46dbac",
   "metadata": {},
   "outputs": [
    {
     "name": "stdout",
     "output_type": "stream",
     "text": [
      "Normal Distribution Stats: mean =  0.07447473861538036 and standard deviation =  0.9265243969710539\n"
     ]
    }
   ],
   "source": [
    "def sample_statistics(samples):\n",
    "    \n",
    "    mean = np.mean(samples)\n",
    "    standard_deviation = np.std(samples)\n",
    "    \n",
    "    return mean, standard_deviation\n",
    "\n",
    "mean, standard_deviation = sample_statistics(norm_data)\n",
    "print(\"Normal Distribution Stats:\", \"mean = \", mean, \"and standard deviation = \", standard_deviation)"
   ]
  },
  {
   "cell_type": "code",
   "execution_count": 67,
   "id": "dfe85cda",
   "metadata": {},
   "outputs": [
    {
     "name": "stdout",
     "output_type": "stream",
     "text": [
      "The PDF value for x = 5 is: 3.1419590620774136e-07\n"
     ]
    }
   ],
   "source": [
    "def calculate_normal_pdf(x, mean, std_dev):\n",
    "    return norm.pdf(x, loc=mean, scale=std_dev)\n",
    "\n",
    "x = 5 #point at which pdf is calculated\n",
    "\n",
    "pdf_at_x = calculate_normal_pdf(x, mean, standard_deviation)\n",
    "print(f\"The PDF value for x = {x} is: {pdf_at_x}\")"
   ]
  },
  {
   "cell_type": "markdown",
   "id": "3d688429",
   "metadata": {},
   "source": [
    "# Q9. Create a program to calculate the cumulative distribution function (CDF) of exponential distribution."
   ]
  },
  {
   "cell_type": "code",
   "execution_count": 68,
   "id": "5467a5eb",
   "metadata": {},
   "outputs": [],
   "source": [
    "exp_data = np.random.exponential(scale = 2, size = 1000)\n",
    "# params = (Mean (1/lambda); the rate parameter λ = 1/scale, Number of samples)"
   ]
  },
  {
   "cell_type": "code",
   "execution_count": 69,
   "id": "be06aff9",
   "metadata": {},
   "outputs": [
    {
     "data": {
      "text/plain": [
       "array([5.56727438e+00, 1.91485161e+00, 1.27007773e+00, 1.33575023e+00,\n",
       "       4.95202868e+00, 2.69013049e-01, 3.99006001e+00, 2.86068032e+00,\n",
       "       4.91308373e-01, 2.08191849e+00, 3.31633870e-01, 1.81393943e+00,\n",
       "       1.75840432e+00, 1.74493903e+00, 1.35069160e-01, 2.71892417e+00,\n",
       "       3.50309960e-01, 7.62257338e-01, 1.30775225e+00, 3.06331798e-01,\n",
       "       7.86516181e-01, 1.78456307e+00, 5.65138309e+00, 8.40084426e-01,\n",
       "       2.64635377e-01, 2.35501421e+00, 2.90428425e+00, 9.95660920e+00,\n",
       "       6.07795213e-02, 8.87423967e-01, 1.22738682e+00, 5.00295304e-01,\n",
       "       4.32588664e-01, 1.70776031e+00, 1.42203587e-01, 6.70401674e-01,\n",
       "       3.56602803e+00, 4.59316757e+00, 2.09438339e+00, 5.21318419e-01,\n",
       "       2.12049252e-01, 2.83136539e+00, 8.48983912e+00, 3.52237828e-01,\n",
       "       6.10702531e+00, 1.81621446e+00, 1.37700410e+00, 5.18797353e+00,\n",
       "       3.55127795e-01, 3.87171714e+00, 7.08624239e-01, 4.51790818e+00,\n",
       "       8.65321830e-01, 1.15986936e+00, 1.09181235e+00, 3.75107901e-01,\n",
       "       2.11904915e+00, 8.80664817e-01, 8.36673233e-01, 2.75725961e+00,\n",
       "       9.86513557e-01, 3.03463475e+00, 1.81625543e+00, 1.10605736e+00,\n",
       "       1.87202936e+00, 1.40878218e+00, 3.50928122e-01, 4.66737771e-01,\n",
       "       2.25594893e+00, 7.02246579e-01, 7.13833479e+00, 3.16272275e+00,\n",
       "       1.08638585e+00, 9.71879478e+00, 2.15105721e+00, 7.25284501e+00,\n",
       "       1.03677881e+00, 4.33003334e-01, 2.73503237e+00, 4.00654482e-01,\n",
       "       9.69868976e-01, 2.06280351e+00, 8.40242687e-02, 3.61440577e-01,\n",
       "       1.87108859e+00, 5.76639005e+00, 8.65137714e-01, 1.72277558e-01,\n",
       "       2.50101449e+00, 2.44700615e+00, 8.20244370e-01, 2.02139647e+00,\n",
       "       1.01883234e-01, 8.38660793e-01, 2.90971875e-01, 2.44148915e+00,\n",
       "       4.82795818e-01, 4.14504834e-01, 2.07356456e-01, 1.89544759e+00,\n",
       "       2.18294668e+00, 4.32482817e+00, 1.74215882e+00, 4.32482917e-01,\n",
       "       3.78433364e+00, 4.02565638e-02, 1.07994508e+00, 3.10939858e+00,\n",
       "       7.86436775e-02, 3.27524515e+00, 1.27810838e+00, 1.30302996e-01,\n",
       "       3.73716892e+00, 2.63920633e+00, 9.38491349e-01, 2.76874170e-01,\n",
       "       1.23159170e+00, 2.66793969e+00, 3.68896557e+00, 2.34874901e+00,\n",
       "       1.45116918e+00, 1.62267938e-01, 6.13720947e-01, 2.29602773e+00,\n",
       "       6.33220558e-01, 2.91351564e+00, 2.33395043e-01, 3.88406784e-01,\n",
       "       1.27318044e+00, 5.53391819e+00, 2.88505148e-01, 1.03195444e+00,\n",
       "       3.58075209e+00, 6.31263702e-01, 3.83795596e-01, 5.70482195e+00,\n",
       "       1.68416881e+00, 4.45149272e-02, 2.72124315e+00, 1.50429701e-02,\n",
       "       7.25567809e-01, 1.39976908e+00, 5.82021879e-01, 3.68539515e+00,\n",
       "       2.00360045e+00, 5.74752618e-01, 1.59055195e+00, 5.34976557e-01,\n",
       "       4.68394044e-01, 1.12894283e+00, 5.14996736e-02, 2.81919905e+00,\n",
       "       4.26588092e-01, 4.46038108e+00, 7.60504037e-01, 3.63509193e-01,\n",
       "       7.98146803e-01, 3.21841723e+00, 2.82363215e+00, 4.96784001e-01,\n",
       "       1.46285885e-01, 1.65274984e+00, 9.71983981e+00, 2.56137972e+00,\n",
       "       7.81492666e-01, 9.81458209e-01, 3.93895475e+00, 6.93420719e+00,\n",
       "       5.90143438e-01, 2.35731537e+00, 4.57252049e+00, 1.51881162e-02,\n",
       "       1.53393402e+00, 1.10193393e+00, 1.74869057e+00, 4.22908171e+00,\n",
       "       6.40036113e-01, 2.48544158e-01, 1.29745198e-01, 4.03511518e+00,\n",
       "       2.21846067e+00, 5.27041617e-02, 1.39635336e+00, 8.23768597e+00,\n",
       "       2.38120669e+00, 1.14939939e+00, 4.10969504e+00, 1.05071675e+00,\n",
       "       1.23252472e+01, 1.43674318e+00, 3.15049603e+00, 2.29565408e+00,\n",
       "       1.13460992e+00, 3.55074794e+00, 6.94313307e-01, 7.65433713e-01,\n",
       "       6.41527528e-01, 1.21378580e+00, 5.20774486e-01, 4.06764350e+00,\n",
       "       1.86410947e+00, 2.10736578e+00, 1.43149361e+00, 4.82384598e+00,\n",
       "       1.64619272e+00, 7.33341253e-01, 2.27400533e+00, 1.01152209e+00,\n",
       "       1.79213453e+00, 6.34922304e-02, 1.78919544e+00, 7.24270252e-01,\n",
       "       6.00963522e+00, 3.21689953e+00, 1.80551804e+00, 3.74754905e-01,\n",
       "       7.51103421e-01, 3.59213601e+00, 2.54134737e+00, 2.33984325e+00,\n",
       "       3.55747360e+00, 1.27307658e+00, 6.73381084e-01, 1.21511474e+00,\n",
       "       3.39883663e+00, 5.22699257e+00, 1.05646241e+01, 4.29914634e+00,\n",
       "       3.64413772e+00, 3.12162748e-01, 3.80333909e+00, 5.82747413e-01,\n",
       "       1.62964759e+00, 1.21855176e+00, 2.98523375e+00, 2.88111468e+00,\n",
       "       5.07445948e-01, 4.18375797e+00, 3.25510696e-01, 1.09281031e+00,\n",
       "       1.37052124e+00, 6.95723034e-02, 6.33783023e-02, 4.37452892e+00,\n",
       "       1.29023306e-02, 9.19219213e-01, 1.75672395e+00, 1.72317106e+00,\n",
       "       1.13395734e+00, 2.15849212e+00, 3.54268420e+00, 2.21575298e+00,\n",
       "       1.94983493e+00, 8.53142204e-01, 1.56904149e+00, 7.60093388e-01,\n",
       "       6.46545404e+00, 2.51691654e-01, 2.02317881e+00, 1.36830942e+00,\n",
       "       2.49557423e+00, 1.01693382e+00, 9.04095641e-01, 3.59962669e-01,\n",
       "       1.56716775e+00, 4.80271127e+00, 1.68216660e+00, 1.39990942e+00,\n",
       "       6.43950627e-01, 1.56914076e+00, 6.53366755e-01, 1.14163584e+00,\n",
       "       3.57233484e+00, 8.89966447e-01, 1.99606981e+00, 2.46872508e+00,\n",
       "       2.08255431e+00, 1.18578895e-02, 1.41971628e+00, 7.39046769e-01,\n",
       "       1.55955702e+00, 6.12184322e-01, 4.87213467e+00, 5.63838854e+00,\n",
       "       1.40883643e+00, 4.01701953e-01, 2.20134381e+00, 8.19326006e-01,\n",
       "       6.91213691e-01, 1.76468518e-01, 2.69294902e+00, 2.68040645e-01,\n",
       "       5.14080479e-02, 1.91873895e+00, 5.29150006e+00, 5.79396344e-01,\n",
       "       4.18800040e+00, 7.83146322e-01, 8.19694540e-01, 1.64438888e+00,\n",
       "       2.78370448e+00, 5.47484978e-02, 3.68968287e+00, 3.14381910e+00,\n",
       "       8.52375784e-01, 2.48547157e-01, 3.49169102e+00, 9.49912183e-01,\n",
       "       5.52662172e-01, 1.54709873e+00, 1.32668772e+00, 9.91633566e+00,\n",
       "       3.31981266e+00, 1.23920207e+00, 3.52405676e-01, 6.10402225e-01,\n",
       "       5.53688924e+00, 5.19554092e+00, 3.58423934e-01, 4.96288187e-02,\n",
       "       3.81489161e-02, 2.22734813e-01, 4.26616083e+00, 6.71123010e-01,\n",
       "       2.10889339e-01, 1.05817876e+00, 7.29166378e-01, 2.73919583e+00,\n",
       "       1.65127307e+00, 3.48277399e-01, 2.41991756e+00, 6.01718755e-01,\n",
       "       5.94115341e-01, 1.37956082e+00, 1.12189280e+00, 2.67027946e+00,\n",
       "       1.31987424e+00, 5.94329130e-01, 1.55729077e+00, 6.78109784e-01,\n",
       "       2.85213281e+00, 1.74547778e+00, 2.47051339e+00, 8.05635329e-01,\n",
       "       9.27594127e+00, 7.84573455e-01, 8.43330435e-01, 2.64476351e+00,\n",
       "       2.04725972e+00, 6.35872806e+00, 2.16453110e-01, 5.21419252e+00,\n",
       "       4.23735239e-01, 1.23552384e+00, 7.41842018e-02, 1.32875509e+00,\n",
       "       5.64055668e-01, 3.00842593e+00, 3.47334740e+00, 1.99642828e+00,\n",
       "       4.78049673e+00, 1.46542909e+00, 4.05218180e-01, 9.08234164e+00,\n",
       "       9.22277680e-01, 2.84411989e-02, 8.87192571e+00, 2.61403232e-01,\n",
       "       1.73044374e+00, 1.51582960e+00, 4.18650738e-01, 1.72394650e+00,\n",
       "       1.02977316e+00, 1.12208539e+00, 4.86968900e+00, 2.47711328e+00,\n",
       "       1.31647343e-02, 3.40047153e-01, 3.54164979e+00, 1.67376543e+00,\n",
       "       3.42422327e+00, 1.47984888e+00, 1.92972524e+00, 8.71470103e-01,\n",
       "       3.46045562e-01, 4.58870202e+00, 7.03234028e-01, 5.33310429e-01,\n",
       "       5.59504874e+00, 2.31396968e-01, 2.57679214e+00, 4.31698328e+00,\n",
       "       8.53979492e-01, 6.99387378e-01, 3.08712374e-01, 4.56475245e+00,\n",
       "       1.83653045e-01, 2.42286100e+00, 1.49962793e+00, 1.01406989e+00,\n",
       "       7.31543819e+00, 1.08551561e+00, 6.45261254e+00, 1.14245474e+00,\n",
       "       4.12525414e+00, 3.18657427e+00, 6.27433744e-01, 9.00990388e-01,\n",
       "       2.65058527e+00, 2.58509253e+00, 5.33289925e+00, 5.34218843e+00,\n",
       "       3.67143227e+00, 2.85900751e+00, 1.73489872e+00, 7.42816458e+00,\n",
       "       3.39571530e+00, 8.20174701e-01, 1.90181748e+00, 2.14505979e+00,\n",
       "       4.11907732e+00, 2.03371659e+00, 1.30951395e+00, 5.53031841e-01,\n",
       "       1.15375173e-01, 1.08425010e-01, 1.29585274e+00, 5.34558739e-01,\n",
       "       1.84387090e+01, 1.94446846e+00, 3.27971437e-01, 4.51972484e+00,\n",
       "       3.18075430e-01, 3.16001401e-02, 6.32964558e-01, 3.44244885e+00,\n",
       "       7.57820872e-02, 4.20952150e-01, 1.76308097e+00, 1.88741297e+00,\n",
       "       2.28026607e+00, 1.92288690e-01, 2.32845523e+00, 2.88112434e+00,\n",
       "       1.03007630e+00, 2.26726198e+00, 6.19947592e-02, 7.02338829e-01,\n",
       "       1.76384963e+00, 4.30219482e-01, 7.81323554e-01, 9.36615689e-02,\n",
       "       3.01515007e-01, 1.15352351e+00, 3.51780579e+00, 1.58815002e-01,\n",
       "       1.45702556e+00, 4.39207489e+00, 7.49265343e+00, 4.31059882e-01,\n",
       "       4.08351239e+00, 1.74879966e+00, 5.47297221e-01, 2.51738893e+00,\n",
       "       1.20539705e+00, 1.21680539e-01, 1.93208443e+00, 2.16966389e+00,\n",
       "       2.41152218e+00, 5.82796957e-01, 5.05223139e+00, 2.84092915e+00,\n",
       "       3.46918548e+00, 8.90081828e-01, 2.15217521e-01, 5.47721221e+00,\n",
       "       4.81326543e-01, 4.12314255e+00, 1.14124177e+00, 8.52175636e-01,\n",
       "       5.05955808e-01, 1.99797216e+00, 3.21234938e+00, 1.80691298e+00,\n",
       "       3.68382424e+00, 8.04140832e-03, 3.28000420e+00, 1.40317797e+00,\n",
       "       4.43779213e+00, 4.84036274e-01, 9.08689490e-01, 3.40211829e-01,\n",
       "       2.00385906e-01, 2.89423600e-01, 2.34434897e+00, 2.96835853e+00,\n",
       "       2.31480984e+00, 5.39565014e+00, 4.94452195e-01, 2.31372528e+00,\n",
       "       1.63993126e+00, 5.87476690e-01, 2.96589418e+00, 2.41168440e-01,\n",
       "       4.79658793e-01, 2.41357859e+00, 1.33110401e+00, 1.42171337e-01,\n",
       "       1.70259005e-03, 1.63072345e+00, 4.13129542e-01, 1.33556437e+00,\n",
       "       1.35652334e+00, 1.48759716e+00, 9.54422483e-01, 5.10970006e+00,\n",
       "       5.95705619e-01, 1.35489455e+00, 4.31633414e-01, 2.24817025e+00,\n",
       "       4.56079818e+00, 1.02730137e+00, 7.76523133e-01, 1.23575295e+00,\n",
       "       2.09374153e+00, 7.79468443e-03, 2.63782424e-01, 2.31925580e-01,\n",
       "       2.63132132e+00, 2.59837715e+00, 4.42603383e+00, 1.14600184e+00,\n",
       "       5.26942841e+00, 3.51326338e+00, 8.83033643e+00, 5.71178051e-01,\n",
       "       1.16530202e+00, 2.37943772e-01, 2.34336937e+00, 3.27874342e+00,\n",
       "       2.54531474e+00, 1.95608053e+00, 1.30526689e+00, 3.63213769e+00,\n",
       "       1.42421786e+00, 1.69899512e+00, 1.34249145e+00, 4.95199292e-01,\n",
       "       3.77832887e+00, 1.62041691e+00, 1.45499346e+00, 2.56483092e-01,\n",
       "       4.26706355e-01, 3.25053242e-01, 5.14633259e+00, 2.25810370e+00,\n",
       "       4.12248246e-01, 1.34545511e+00, 1.19940455e+00, 1.97956771e+00,\n",
       "       3.80188024e+00, 1.51532980e-01, 5.21308016e+00, 6.39696292e+00,\n",
       "       3.27777261e+00, 5.12577904e-02, 5.86390619e-02, 7.18675472e+00,\n",
       "       2.63841868e-01, 2.02527545e-01, 4.68776700e+00, 1.51259373e+00,\n",
       "       2.80547000e+00, 2.94995482e+00, 7.35239680e-01, 8.91075367e-01,\n",
       "       3.89453527e-01, 1.23423729e+00, 5.02816843e-02, 2.06292909e-01,\n",
       "       1.62113994e+00, 4.39837155e-02, 1.00059913e+00, 1.31123903e+00,\n",
       "       3.36365287e+00, 7.14761850e+00, 2.43965547e+00, 1.32051288e+00,\n",
       "       7.75800691e-01, 1.00020976e+00, 1.02170180e+00, 1.19173459e+00,\n",
       "       1.76920606e+00, 7.43121008e-02, 1.76362689e+00, 2.40512162e+00,\n",
       "       8.58227057e-01, 5.25821494e+00, 7.40689234e-01, 1.77982471e+00,\n",
       "       8.72913909e-01, 2.53087983e-01, 6.87616326e+00, 5.01468422e-01,\n",
       "       4.95620515e+00, 8.29063079e-01, 1.89414741e+00, 1.03797408e-02,\n",
       "       5.46487315e+00, 2.37618783e+00, 4.83704165e+00, 2.75850006e+00,\n",
       "       2.77728604e-01, 4.93545318e+00, 9.51830360e-01, 2.87542957e+00,\n",
       "       1.98194976e+00, 4.98799755e+00, 3.51842136e+00, 9.87096447e-02,\n",
       "       4.61545662e-01, 3.55034978e+00, 1.04644470e+00, 9.45357793e-01,\n",
       "       6.41950883e+00, 3.93859437e+00, 2.17537566e+00, 3.96240170e+00,\n",
       "       3.40522647e+00, 1.60145590e+00, 5.16943312e-01, 1.11063170e+01,\n",
       "       2.61654045e+00, 6.86706293e-01, 5.15573222e-02, 6.51580587e+00,\n",
       "       4.91962144e+00, 4.64703101e+00, 1.53630648e+00, 2.96361723e+00,\n",
       "       3.17440540e+00, 6.65259149e+00, 2.14319954e+00, 4.95380351e+00,\n",
       "       3.15177375e+00, 4.89419342e-01, 7.89154201e+00, 5.48069617e+00,\n",
       "       2.41098164e+00, 1.35581858e-01, 4.19555866e+00, 4.87841292e-01,\n",
       "       5.12573651e+00, 1.44373834e+00, 1.29244711e+00, 1.77468721e+00,\n",
       "       1.27246896e+00, 3.69320245e-01, 3.75761688e-01, 9.62073863e-01,\n",
       "       2.22591802e+00, 2.96693796e+00, 3.75883960e-01, 8.91369442e-01,\n",
       "       2.71244805e-02, 4.72747268e+00, 3.41497775e+00, 3.70042103e+00,\n",
       "       7.57511665e-01, 3.17764461e+00, 5.82844623e+00, 6.71142402e+00,\n",
       "       6.04823159e+00, 2.78277124e+00, 3.88116329e+00, 7.45316822e-02,\n",
       "       2.36035047e+00, 1.15627891e-01, 3.35019248e-01, 4.74128896e+00,\n",
       "       1.32529379e+00, 3.12470485e+00, 5.58650630e+00, 2.85254754e-01,\n",
       "       1.69001145e+00, 9.79811251e-02, 4.25400335e+00, 1.23002066e+00,\n",
       "       5.02429224e-02, 1.39895435e+00, 6.09773837e+00, 8.83152817e-02,\n",
       "       3.07812495e-01, 2.27805409e-01, 6.36598842e-01, 2.95378834e+00,\n",
       "       3.06107998e+00, 8.52398250e-01, 4.38986060e+00, 2.61443625e+00,\n",
       "       2.28722874e+00, 1.67931591e+00, 1.64030298e+00, 7.17030645e-01,\n",
       "       6.94109456e-01, 2.14703279e+00, 4.53256668e+00, 4.99118745e-02,\n",
       "       1.76936506e+00, 2.16149086e+00, 5.29327199e-01, 2.10094396e+00,\n",
       "       1.36927051e+00, 1.08211549e+00, 6.02021469e+00, 2.92274135e-01,\n",
       "       2.67630184e+00, 5.20490610e-01, 1.00104475e+00, 1.45604634e+00,\n",
       "       1.19501408e+00, 6.05418993e-01, 2.80020767e-01, 2.22859757e+00,\n",
       "       6.28479284e-02, 5.13585547e+00, 3.88527891e+00, 6.40789850e-01,\n",
       "       6.88753324e-01, 1.37916533e+00, 1.06335910e+00, 1.94666143e-01,\n",
       "       1.79935736e+00, 3.13488963e+00, 1.93947754e+00, 3.47541042e+00,\n",
       "       1.84343638e+00, 8.56185594e-01, 1.36723952e+00, 3.31280303e-01,\n",
       "       5.28989113e-01, 3.51219841e+00, 5.10453988e-01, 1.06964675e+00,\n",
       "       3.41749166e-01, 8.77328710e-01, 1.88852738e+00, 1.96809086e-01,\n",
       "       1.32055792e-01, 1.12601354e-01, 5.03476353e-01, 1.45763547e+00,\n",
       "       1.74009979e+00, 1.23254970e+00, 3.44108011e+00, 2.38789788e+00,\n",
       "       1.49177333e+00, 4.64171470e+00, 1.63489934e+00, 6.57916234e-02,\n",
       "       1.25484679e+00, 1.29282747e-01, 2.01907315e-01, 4.12543491e-01,\n",
       "       2.24833330e+00, 9.55737201e-01, 2.06517538e+00, 2.33258877e+00,\n",
       "       5.38509632e-01, 1.18461871e+00, 3.18755629e+00, 1.07794056e+00,\n",
       "       3.18855811e+00, 3.00407633e-02, 1.67936336e+00, 6.85916493e-01,\n",
       "       3.55956607e-01, 8.23931173e-01, 5.75943176e-01, 3.10691466e+00,\n",
       "       8.95197332e-01, 1.64101444e-01, 5.16777356e+00, 4.37890171e-01,\n",
       "       4.17968892e-01, 7.29030763e-01, 2.78785819e-01, 4.57556159e+00,\n",
       "       4.36476021e-01, 2.70940201e+00, 1.60270049e-01, 1.57054410e+00,\n",
       "       1.64119831e+00, 4.27095201e-01, 2.93021666e-01, 9.61989027e-02,\n",
       "       2.29790655e+00, 2.20174201e+00, 1.20785249e+00, 3.46669528e-01,\n",
       "       1.22514571e+00, 2.81256985e-01, 5.93442439e-01, 1.18247800e-01,\n",
       "       4.99042450e-02, 5.24525470e-01, 2.13259660e+00, 3.48505286e+00,\n",
       "       6.17095524e+00, 3.29556579e-01, 3.86333746e+00, 2.12295444e+00,\n",
       "       2.88621196e+00, 3.43025912e-01, 1.56337121e-01, 2.38500791e+00,\n",
       "       2.16727554e+00, 4.30699948e+00, 7.95769510e-01, 1.94517334e+00,\n",
       "       5.59906305e-01, 3.43879893e-03, 2.30288246e+00, 4.85399558e-01,\n",
       "       2.22435446e+00, 4.76565916e-01, 5.83591790e+00, 2.08195748e-01,\n",
       "       1.39797663e+00, 7.38282255e-01, 1.80802268e+00, 2.33199311e+00,\n",
       "       8.77223077e-01, 1.78439013e-02, 3.75214420e+00, 1.95963378e+00,\n",
       "       1.98725098e+00, 1.30740742e+00, 4.66474515e+00, 5.59218396e+00,\n",
       "       2.15310190e+00, 2.66551625e-01, 6.48686175e+00, 8.25685077e-01,\n",
       "       3.59008943e+00, 1.61919867e+00, 2.29297806e+00, 1.22187517e+00,\n",
       "       2.77822332e+00, 7.04777804e+00, 5.35545143e-01, 5.22370309e-01,\n",
       "       5.99359292e-01, 1.41896307e-01, 7.16096367e+00, 2.54411495e+00,\n",
       "       9.46573920e-01, 1.20623235e+00, 9.84153258e-01, 1.08222829e+00,\n",
       "       4.00509884e+00, 9.12824516e-01, 4.92693744e-02, 4.88237404e-01,\n",
       "       2.22909522e-01, 3.54657789e+00, 6.72066772e-01, 1.00123295e+00,\n",
       "       1.76847931e+00, 3.71704896e+00, 1.17425741e-01, 1.98912638e+00,\n",
       "       5.13184435e+00, 1.31979407e+00, 2.31488942e+00, 1.86062473e+00,\n",
       "       3.59214361e-01, 9.39300722e+00, 1.42441193e+00, 4.17645975e+00,\n",
       "       2.23306845e+00, 4.93965291e-01, 1.47832308e+00, 4.70465143e-01,\n",
       "       4.80325764e+00, 5.31764996e+00, 7.48469825e-01, 5.60747695e+00,\n",
       "       2.38595797e-01, 5.12044181e+00, 3.62290715e-02, 3.74060061e+00,\n",
       "       1.68365240e+00, 6.57641427e-01, 3.06707198e+00, 3.38384291e-01,\n",
       "       3.18630586e+00, 8.91603157e-01, 9.42791218e+00, 9.41179189e-01,\n",
       "       5.52136179e-01, 6.04858951e-01, 2.74756029e+00, 3.27761255e+00,\n",
       "       6.14740727e-01, 8.76922951e-01, 1.51971462e+00, 1.13967404e+01,\n",
       "       1.84320633e+00, 1.85347037e-01, 1.04531730e+00, 8.00233773e-01,\n",
       "       5.96923529e+00, 1.28770647e-01, 1.80602988e+00, 2.56647445e+00,\n",
       "       1.43036680e+00, 1.53598623e+00, 4.29207320e-01, 4.51255446e-02,\n",
       "       5.48669813e-01, 1.54417232e+00, 6.36409417e+00, 5.39366985e+00,\n",
       "       8.19276483e+00, 2.41240465e+00, 1.24216039e+00, 3.57190696e+00,\n",
       "       3.45610456e-01, 4.09897096e+00, 3.12971510e+00, 2.06832172e+00,\n",
       "       1.30913591e+00, 7.09648500e-01, 5.72818783e-01, 1.90424167e+00,\n",
       "       2.03981169e+00, 2.38140094e+00, 3.47255525e-01, 4.90522153e+00,\n",
       "       4.96253076e-01, 2.48687013e-01, 4.05659142e-01, 5.54466914e+00,\n",
       "       1.25691827e+00, 1.61208408e+00, 4.75444726e-01, 2.51315871e+00,\n",
       "       4.69347896e-01, 8.61395808e+00, 2.08966489e+00, 3.14432985e+00,\n",
       "       2.66267646e+00, 6.42088850e-01, 2.80458822e+00, 5.98274479e-01,\n",
       "       2.42596548e+00, 4.73869857e+00, 5.98437387e+00, 1.84047378e+00,\n",
       "       2.68315989e+00, 5.25816844e-01, 1.79437013e+00, 2.86023898e+00,\n",
       "       3.79860371e+00, 3.20711692e+00, 2.06771693e-01, 7.18809826e-02,\n",
       "       2.11896437e+00, 5.79366701e-03, 1.22572048e+00, 1.59936194e+00,\n",
       "       5.21357519e-01, 7.34276664e-01, 5.16124560e+00, 7.52907194e-02,\n",
       "       3.71834475e+00, 1.20921299e+00, 2.35799517e+00, 7.24019831e+00,\n",
       "       3.40199762e+00, 5.75051953e+00, 6.07889275e+00, 2.94811741e+00,\n",
       "       7.86050911e-01, 1.24038535e+00, 9.36276668e-01, 5.34756026e-02,\n",
       "       6.74075252e-01, 1.41908063e+00, 1.91775276e+00, 1.85162712e+00,\n",
       "       2.04784459e+00, 2.09924970e+00, 3.96195700e+00, 4.90256007e-01,\n",
       "       1.41213036e-01, 3.19300491e+00, 2.56752427e+00, 7.13800854e+00])"
      ]
     },
     "execution_count": 69,
     "metadata": {},
     "output_type": "execute_result"
    }
   ],
   "source": [
    "exp_data"
   ]
  },
  {
   "cell_type": "code",
   "execution_count": 71,
   "id": "e1b16ca3",
   "metadata": {},
   "outputs": [
    {
     "name": "stderr",
     "output_type": "stream",
     "text": [
      "C:\\ProgramData\\anaconda3\\Lib\\site-packages\\seaborn\\_oldcore.py:1119: FutureWarning: use_inf_as_na option is deprecated and will be removed in a future version. Convert inf values to NaN before operating instead.\n",
      "  with pd.option_context('mode.use_inf_as_na', True):\n"
     ]
    },
    {
     "data": {
      "image/png": "[encoded data removed]",
      "text/plain": [
       "<Figure size 800x600 with 1 Axes>"
      ]
     },
     "metadata": {},
     "output_type": "display_data"
    }
   ],
   "source": [
    "plt.figure(figsize=(8, 6))\n",
    "sns.histplot(exp_data, kde=True, bins=50, color='blue')\n",
    "plt.title(\"Exponential Distribution\")\n",
    "plt.xlabel(\"Value\")\n",
    "plt.ylabel(\"Frequency\")\n",
    "plt.show()"
   ]
  },
  {
   "cell_type": "code",
   "execution_count": 72,
   "id": "d44f37f8",
   "metadata": {},
   "outputs": [
    {
     "name": "stdout",
     "output_type": "stream",
     "text": [
      "Mean: 2.0605668696024586\n",
      "Variance: 4.165534410187931\n",
      "Standard Deviation: 2.0409640884121236\n"
     ]
    }
   ],
   "source": [
    "mean = np.mean(exp_data)\n",
    "variance = np.var(exp_data)\n",
    "std_dev = np.sqrt(variance)\n",
    "\n",
    "print(f\"Mean: {mean}\")\n",
    "print(f\"Variance: {variance}\")\n",
    "print(f\"Standard Deviation: {std_dev}\")"
   ]
  },
  {
   "cell_type": "code",
   "execution_count": 77,
   "id": "c6b69c91",
   "metadata": {},
   "outputs": [
    {
     "data": {
      "image/png": "[encoded data removed]",
      "text/plain": [
       "<Figure size 800x500 with 1 Axes>"
      ]
     },
     "metadata": {},
     "output_type": "display_data"
    }
   ],
   "source": [
    "def exponential_cdf(x, rate_parameter):\n",
    "    return 1 - np.exp(-rate_parameter * x) \n",
    "\n",
    "rate_parameter = 0.5 # reciprocal of the scale parameter  \n",
    "x_values = exp_data # compute the CDF values for each point in your dataset\n",
    "\n",
    "cdf_values = exponential_cdf(x_values, rate_parameter)\n",
    "\n",
    "# Plot CDF\n",
    "plt.figure(figsize=(8, 5))\n",
    "plt.plot(x_values, cdf_values, label=f\"Exponential CDF (λ={rate_parameter})\", color='blue')\n",
    "plt.title(\"Exponential Distribution CDF\")\n",
    "plt.xlabel(\"x\")\n",
    "plt.ylabel(\"CDF\")\n",
    "plt.legend()\n",
    "plt.grid()\n",
    "plt.show()"
   ]
  },
  {
   "cell_type": "markdown",
   "id": "ff8c9ee0",
   "metadata": {},
   "source": [
    "# Q10. Write a Python function to calculate the probability mass function (PMF) of Poisson distribution."
   ]
  },
  {
   "cell_type": "code",
   "execution_count": 82,
   "id": "e9e43ce9",
   "metadata": {},
   "outputs": [
    {
     "data": {
      "image/png": "[encoded data removed]",
      "text/plain": [
       "<Figure size 640x480 with 1 Axes>"
      ]
     },
     "metadata": {},
     "output_type": "display_data"
    }
   ],
   "source": [
    "# Parameters for the Poisson distribution\n",
    "lambda_ = 4  # Average rate of occurrences\n",
    "size = 100  # Number of random samples\n",
    "\n",
    "# Generate Poisson distributed data\n",
    "poisson_data = np.random.poisson(lambda_, size)\n",
    "\n",
    "# Plot the histogram of the generated data\n",
    "plt.hist(poisson_data, bins=range(min(poisson_data), max(poisson_data) + 2), color='skyblue', edgecolor='black', align='left')\n",
    "plt.title(f\"Histogram of Poisson Distribution (λ={lambda_}, size={size})\")\n",
    "plt.xlabel(\"Occurrences (k)\")\n",
    "plt.ylabel(\"Frequency\")\n",
    "plt.grid(axis='y', linestyle='--', alpha=0.7)\n",
    "plt.show()"
   ]
  },
  {
   "cell_type": "code",
   "execution_count": 83,
   "id": "8e2a0d24",
   "metadata": {},
   "outputs": [
    {
     "data": {
      "image/png": "[encoded data removed]",
      "text/plain": [
       "<Figure size 640x480 with 1 Axes>"
      ]
     },
     "metadata": {},
     "output_type": "display_data"
    },
    {
     "name": "stdout",
     "output_type": "stream",
     "text": [
      "PMF: {0: 0.02, 1: 0.1, 2: 0.17, 3: 0.23, 4: 0.18, 5: 0.14, 6: 0.1, 7: 0.05, 8: 0.01}\n"
     ]
    }
   ],
   "source": [
    "def calculate_pmf(data):\n",
    "    \n",
    "    # Calculate PMF\n",
    "    unique_values, counts = np.unique(data, return_counts=True)\n",
    "    probabilities = counts / len(data)\n",
    "    \n",
    "    # Display PMF\n",
    "    plt.bar(unique_values, probabilities, color='skyblue', edgecolor='black')\n",
    "    plt.title(\"PMF of the Data\")\n",
    "    plt.xlabel(\"Occurrences (k)\")\n",
    "    plt.ylabel(\"Probability\")\n",
    "    plt.grid(axis='y', linestyle='--', alpha=0.7)\n",
    "    plt.show()\n",
    "    \n",
    "    # Return PMF as a dictionary\n",
    "    return dict(zip(unique_values, probabilities))\n",
    "\n",
    "pmf_result = calculate_pmf(poisson_data)\n",
    "\n",
    "# Print PMF\n",
    "print(\"PMF:\", pmf_result)"
   ]
  },
  {
   "cell_type": "markdown",
   "id": "330fd259",
   "metadata": {},
   "source": [
    "# Q11. A company wants to test if a new website layout leads to a higher conversion rate (percentage of visitors who make a purchase). They collect data from the old and new layouts to compare.To generate the data use the following command:\n",
    "\n",
    " ```python\n",
    " import numpy as np\n",
    " # 50 purchases out of 1000 visitors\n",
    " old_layout = np.array([1] * 50 + [0] * 950)\n",
    " # 70 purchases out of 1000 visitors  \n",
    "new_layout = np.array([1] * 70 + [0] * 930)\n",
    " ```\n",
    " Apply z-test to find which layout is successful.\n",
    " \n",
    "# ANSWER:\n",
    "\n",
    "- This test is two-tailed because it is designed to detect any significant difference, whether positive or negative, between the conversion rates of the old and new layouts. \n",
    "\n",
    "Here's why: \n",
    "\n",
    "- Null and Alternative Hypotheses\n",
    "- Null Hypothesis (Ho): There is no difference in conversion rates between the two layouts. \"Ho: p_new = p_old\"\n",
    "- Alternate Hypothesis (Ha): There is a difference in conversion rates. \"Ha: p_new != p_old\"\n",
    "\n",
    "- The alternative hypothesis uses \"not equal to\", which means we're looking for any deviation from the null hypothesis in either direction:\n",
    "- if p_new > p_old : new layout is better\n",
    "- if p_new < p_old : old layout is better\n",
    "\n",
    "Why Two-Tailed?\n",
    "\n",
    "- A two-tailed test examines deviations on both ends of the distribution (higher or lower conversion rates).\n",
    "- The p-value is computed for both tails of the normal distribution because the test does not assume which direction the difference might occur in advance."
   ]
  },
  {
   "cell_type": "code",
   "execution_count": 84,
   "id": "aa743114",
   "metadata": {},
   "outputs": [],
   "source": [
    "import numpy as np\n",
    "# 1 represents visitor who purchased, 0 represents visitors only\n",
    "# 50 purchases out of 1000 visitors\n",
    "old_layout = np.array([1] * 50 + [0] * 950)\n",
    "# 70 purchases out of 1000 visitors  \n",
    "new_layout = np.array([1] * 70 + [0] * 930)"
   ]
  },
  {
   "cell_type": "code",
   "execution_count": 85,
   "id": "1cdb2f03",
   "metadata": {},
   "outputs": [
    {
     "data": {
      "text/plain": [
       "array([1, 1, 1, 1, 1, 1, 1, 1, 1, 1, 1, 1, 1, 1, 1, 1, 1, 1, 1, 1, 1, 1,\n",
       "       1, 1, 1, 1, 1, 1, 1, 1, 1, 1, 1, 1, 1, 1, 1, 1, 1, 1, 1, 1, 1, 1,\n",
       "       1, 1, 1, 1, 1, 1, 0, 0, 0, 0, 0, 0, 0, 0, 0, 0, 0, 0, 0, 0, 0, 0,\n",
       "       0, 0, 0, 0, 0, 0, 0, 0, 0, 0, 0, 0, 0, 0, 0, 0, 0, 0, 0, 0, 0, 0,\n",
       "       0, 0, 0, 0, 0, 0, 0, 0, 0, 0, 0, 0, 0, 0, 0, 0, 0, 0, 0, 0, 0, 0,\n",
       "       0, 0, 0, 0, 0, 0, 0, 0, 0, 0, 0, 0, 0, 0, 0, 0, 0, 0, 0, 0, 0, 0,\n",
       "       0, 0, 0, 0, 0, 0, 0, 0, 0, 0, 0, 0, 0, 0, 0, 0, 0, 0, 0, 0, 0, 0,\n",
       "       0, 0, 0, 0, 0, 0, 0, 0, 0, 0, 0, 0, 0, 0, 0, 0, 0, 0, 0, 0, 0, 0,\n",
       "       0, 0, 0, 0, 0, 0, 0, 0, 0, 0, 0, 0, 0, 0, 0, 0, 0, 0, 0, 0, 0, 0,\n",
       "       0, 0, 0, 0, 0, 0, 0, 0, 0, 0, 0, 0, 0, 0, 0, 0, 0, 0, 0, 0, 0, 0,\n",
       "       0, 0, 0, 0, 0, 0, 0, 0, 0, 0, 0, 0, 0, 0, 0, 0, 0, 0, 0, 0, 0, 0,\n",
       "       0, 0, 0, 0, 0, 0, 0, 0, 0, 0, 0, 0, 0, 0, 0, 0, 0, 0, 0, 0, 0, 0,\n",
       "       0, 0, 0, 0, 0, 0, 0, 0, 0, 0, 0, 0, 0, 0, 0, 0, 0, 0, 0, 0, 0, 0,\n",
       "       0, 0, 0, 0, 0, 0, 0, 0, 0, 0, 0, 0, 0, 0, 0, 0, 0, 0, 0, 0, 0, 0,\n",
       "       0, 0, 0, 0, 0, 0, 0, 0, 0, 0, 0, 0, 0, 0, 0, 0, 0, 0, 0, 0, 0, 0,\n",
       "       0, 0, 0, 0, 0, 0, 0, 0, 0, 0, 0, 0, 0, 0, 0, 0, 0, 0, 0, 0, 0, 0,\n",
       "       0, 0, 0, 0, 0, 0, 0, 0, 0, 0, 0, 0, 0, 0, 0, 0, 0, 0, 0, 0, 0, 0,\n",
       "       0, 0, 0, 0, 0, 0, 0, 0, 0, 0, 0, 0, 0, 0, 0, 0, 0, 0, 0, 0, 0, 0,\n",
       "       0, 0, 0, 0, 0, 0, 0, 0, 0, 0, 0, 0, 0, 0, 0, 0, 0, 0, 0, 0, 0, 0,\n",
       "       0, 0, 0, 0, 0, 0, 0, 0, 0, 0, 0, 0, 0, 0, 0, 0, 0, 0, 0, 0, 0, 0,\n",
       "       0, 0, 0, 0, 0, 0, 0, 0, 0, 0, 0, 0, 0, 0, 0, 0, 0, 0, 0, 0, 0, 0,\n",
       "       0, 0, 0, 0, 0, 0, 0, 0, 0, 0, 0, 0, 0, 0, 0, 0, 0, 0, 0, 0, 0, 0,\n",
       "       0, 0, 0, 0, 0, 0, 0, 0, 0, 0, 0, 0, 0, 0, 0, 0, 0, 0, 0, 0, 0, 0,\n",
       "       0, 0, 0, 0, 0, 0, 0, 0, 0, 0, 0, 0, 0, 0, 0, 0, 0, 0, 0, 0, 0, 0,\n",
       "       0, 0, 0, 0, 0, 0, 0, 0, 0, 0, 0, 0, 0, 0, 0, 0, 0, 0, 0, 0, 0, 0,\n",
       "       0, 0, 0, 0, 0, 0, 0, 0, 0, 0, 0, 0, 0, 0, 0, 0, 0, 0, 0, 0, 0, 0,\n",
       "       0, 0, 0, 0, 0, 0, 0, 0, 0, 0, 0, 0, 0, 0, 0, 0, 0, 0, 0, 0, 0, 0,\n",
       "       0, 0, 0, 0, 0, 0, 0, 0, 0, 0, 0, 0, 0, 0, 0, 0, 0, 0, 0, 0, 0, 0,\n",
       "       0, 0, 0, 0, 0, 0, 0, 0, 0, 0, 0, 0, 0, 0, 0, 0, 0, 0, 0, 0, 0, 0,\n",
       "       0, 0, 0, 0, 0, 0, 0, 0, 0, 0, 0, 0, 0, 0, 0, 0, 0, 0, 0, 0, 0, 0,\n",
       "       0, 0, 0, 0, 0, 0, 0, 0, 0, 0, 0, 0, 0, 0, 0, 0, 0, 0, 0, 0, 0, 0,\n",
       "       0, 0, 0, 0, 0, 0, 0, 0, 0, 0, 0, 0, 0, 0, 0, 0, 0, 0, 0, 0, 0, 0,\n",
       "       0, 0, 0, 0, 0, 0, 0, 0, 0, 0, 0, 0, 0, 0, 0, 0, 0, 0, 0, 0, 0, 0,\n",
       "       0, 0, 0, 0, 0, 0, 0, 0, 0, 0, 0, 0, 0, 0, 0, 0, 0, 0, 0, 0, 0, 0,\n",
       "       0, 0, 0, 0, 0, 0, 0, 0, 0, 0, 0, 0, 0, 0, 0, 0, 0, 0, 0, 0, 0, 0,\n",
       "       0, 0, 0, 0, 0, 0, 0, 0, 0, 0, 0, 0, 0, 0, 0, 0, 0, 0, 0, 0, 0, 0,\n",
       "       0, 0, 0, 0, 0, 0, 0, 0, 0, 0, 0, 0, 0, 0, 0, 0, 0, 0, 0, 0, 0, 0,\n",
       "       0, 0, 0, 0, 0, 0, 0, 0, 0, 0, 0, 0, 0, 0, 0, 0, 0, 0, 0, 0, 0, 0,\n",
       "       0, 0, 0, 0, 0, 0, 0, 0, 0, 0, 0, 0, 0, 0, 0, 0, 0, 0, 0, 0, 0, 0,\n",
       "       0, 0, 0, 0, 0, 0, 0, 0, 0, 0, 0, 0, 0, 0, 0, 0, 0, 0, 0, 0, 0, 0,\n",
       "       0, 0, 0, 0, 0, 0, 0, 0, 0, 0, 0, 0, 0, 0, 0, 0, 0, 0, 0, 0, 0, 0,\n",
       "       0, 0, 0, 0, 0, 0, 0, 0, 0, 0, 0, 0, 0, 0, 0, 0, 0, 0, 0, 0, 0, 0,\n",
       "       0, 0, 0, 0, 0, 0, 0, 0, 0, 0, 0, 0, 0, 0, 0, 0, 0, 0, 0, 0, 0, 0,\n",
       "       0, 0, 0, 0, 0, 0, 0, 0, 0, 0, 0, 0, 0, 0, 0, 0, 0, 0, 0, 0, 0, 0,\n",
       "       0, 0, 0, 0, 0, 0, 0, 0, 0, 0, 0, 0, 0, 0, 0, 0, 0, 0, 0, 0, 0, 0,\n",
       "       0, 0, 0, 0, 0, 0, 0, 0, 0, 0])"
      ]
     },
     "execution_count": 85,
     "metadata": {},
     "output_type": "execute_result"
    }
   ],
   "source": [
    "old_layout"
   ]
  },
  {
   "cell_type": "code",
   "execution_count": 86,
   "id": "28efa086",
   "metadata": {},
   "outputs": [
    {
     "data": {
      "text/plain": [
       "array([1, 1, 1, 1, 1, 1, 1, 1, 1, 1, 1, 1, 1, 1, 1, 1, 1, 1, 1, 1, 1, 1,\n",
       "       1, 1, 1, 1, 1, 1, 1, 1, 1, 1, 1, 1, 1, 1, 1, 1, 1, 1, 1, 1, 1, 1,\n",
       "       1, 1, 1, 1, 1, 1, 1, 1, 1, 1, 1, 1, 1, 1, 1, 1, 1, 1, 1, 1, 1, 1,\n",
       "       1, 1, 1, 1, 0, 0, 0, 0, 0, 0, 0, 0, 0, 0, 0, 0, 0, 0, 0, 0, 0, 0,\n",
       "       0, 0, 0, 0, 0, 0, 0, 0, 0, 0, 0, 0, 0, 0, 0, 0, 0, 0, 0, 0, 0, 0,\n",
       "       0, 0, 0, 0, 0, 0, 0, 0, 0, 0, 0, 0, 0, 0, 0, 0, 0, 0, 0, 0, 0, 0,\n",
       "       0, 0, 0, 0, 0, 0, 0, 0, 0, 0, 0, 0, 0, 0, 0, 0, 0, 0, 0, 0, 0, 0,\n",
       "       0, 0, 0, 0, 0, 0, 0, 0, 0, 0, 0, 0, 0, 0, 0, 0, 0, 0, 0, 0, 0, 0,\n",
       "       0, 0, 0, 0, 0, 0, 0, 0, 0, 0, 0, 0, 0, 0, 0, 0, 0, 0, 0, 0, 0, 0,\n",
       "       0, 0, 0, 0, 0, 0, 0, 0, 0, 0, 0, 0, 0, 0, 0, 0, 0, 0, 0, 0, 0, 0,\n",
       "       0, 0, 0, 0, 0, 0, 0, 0, 0, 0, 0, 0, 0, 0, 0, 0, 0, 0, 0, 0, 0, 0,\n",
       "       0, 0, 0, 0, 0, 0, 0, 0, 0, 0, 0, 0, 0, 0, 0, 0, 0, 0, 0, 0, 0, 0,\n",
       "       0, 0, 0, 0, 0, 0, 0, 0, 0, 0, 0, 0, 0, 0, 0, 0, 0, 0, 0, 0, 0, 0,\n",
       "       0, 0, 0, 0, 0, 0, 0, 0, 0, 0, 0, 0, 0, 0, 0, 0, 0, 0, 0, 0, 0, 0,\n",
       "       0, 0, 0, 0, 0, 0, 0, 0, 0, 0, 0, 0, 0, 0, 0, 0, 0, 0, 0, 0, 0, 0,\n",
       "       0, 0, 0, 0, 0, 0, 0, 0, 0, 0, 0, 0, 0, 0, 0, 0, 0, 0, 0, 0, 0, 0,\n",
       "       0, 0, 0, 0, 0, 0, 0, 0, 0, 0, 0, 0, 0, 0, 0, 0, 0, 0, 0, 0, 0, 0,\n",
       "       0, 0, 0, 0, 0, 0, 0, 0, 0, 0, 0, 0, 0, 0, 0, 0, 0, 0, 0, 0, 0, 0,\n",
       "       0, 0, 0, 0, 0, 0, 0, 0, 0, 0, 0, 0, 0, 0, 0, 0, 0, 0, 0, 0, 0, 0,\n",
       "       0, 0, 0, 0, 0, 0, 0, 0, 0, 0, 0, 0, 0, 0, 0, 0, 0, 0, 0, 0, 0, 0,\n",
       "       0, 0, 0, 0, 0, 0, 0, 0, 0, 0, 0, 0, 0, 0, 0, 0, 0, 0, 0, 0, 0, 0,\n",
       "       0, 0, 0, 0, 0, 0, 0, 0, 0, 0, 0, 0, 0, 0, 0, 0, 0, 0, 0, 0, 0, 0,\n",
       "       0, 0, 0, 0, 0, 0, 0, 0, 0, 0, 0, 0, 0, 0, 0, 0, 0, 0, 0, 0, 0, 0,\n",
       "       0, 0, 0, 0, 0, 0, 0, 0, 0, 0, 0, 0, 0, 0, 0, 0, 0, 0, 0, 0, 0, 0,\n",
       "       0, 0, 0, 0, 0, 0, 0, 0, 0, 0, 0, 0, 0, 0, 0, 0, 0, 0, 0, 0, 0, 0,\n",
       "       0, 0, 0, 0, 0, 0, 0, 0, 0, 0, 0, 0, 0, 0, 0, 0, 0, 0, 0, 0, 0, 0,\n",
       "       0, 0, 0, 0, 0, 0, 0, 0, 0, 0, 0, 0, 0, 0, 0, 0, 0, 0, 0, 0, 0, 0,\n",
       "       0, 0, 0, 0, 0, 0, 0, 0, 0, 0, 0, 0, 0, 0, 0, 0, 0, 0, 0, 0, 0, 0,\n",
       "       0, 0, 0, 0, 0, 0, 0, 0, 0, 0, 0, 0, 0, 0, 0, 0, 0, 0, 0, 0, 0, 0,\n",
       "       0, 0, 0, 0, 0, 0, 0, 0, 0, 0, 0, 0, 0, 0, 0, 0, 0, 0, 0, 0, 0, 0,\n",
       "       0, 0, 0, 0, 0, 0, 0, 0, 0, 0, 0, 0, 0, 0, 0, 0, 0, 0, 0, 0, 0, 0,\n",
       "       0, 0, 0, 0, 0, 0, 0, 0, 0, 0, 0, 0, 0, 0, 0, 0, 0, 0, 0, 0, 0, 0,\n",
       "       0, 0, 0, 0, 0, 0, 0, 0, 0, 0, 0, 0, 0, 0, 0, 0, 0, 0, 0, 0, 0, 0,\n",
       "       0, 0, 0, 0, 0, 0, 0, 0, 0, 0, 0, 0, 0, 0, 0, 0, 0, 0, 0, 0, 0, 0,\n",
       "       0, 0, 0, 0, 0, 0, 0, 0, 0, 0, 0, 0, 0, 0, 0, 0, 0, 0, 0, 0, 0, 0,\n",
       "       0, 0, 0, 0, 0, 0, 0, 0, 0, 0, 0, 0, 0, 0, 0, 0, 0, 0, 0, 0, 0, 0,\n",
       "       0, 0, 0, 0, 0, 0, 0, 0, 0, 0, 0, 0, 0, 0, 0, 0, 0, 0, 0, 0, 0, 0,\n",
       "       0, 0, 0, 0, 0, 0, 0, 0, 0, 0, 0, 0, 0, 0, 0, 0, 0, 0, 0, 0, 0, 0,\n",
       "       0, 0, 0, 0, 0, 0, 0, 0, 0, 0, 0, 0, 0, 0, 0, 0, 0, 0, 0, 0, 0, 0,\n",
       "       0, 0, 0, 0, 0, 0, 0, 0, 0, 0, 0, 0, 0, 0, 0, 0, 0, 0, 0, 0, 0, 0,\n",
       "       0, 0, 0, 0, 0, 0, 0, 0, 0, 0, 0, 0, 0, 0, 0, 0, 0, 0, 0, 0, 0, 0,\n",
       "       0, 0, 0, 0, 0, 0, 0, 0, 0, 0, 0, 0, 0, 0, 0, 0, 0, 0, 0, 0, 0, 0,\n",
       "       0, 0, 0, 0, 0, 0, 0, 0, 0, 0, 0, 0, 0, 0, 0, 0, 0, 0, 0, 0, 0, 0,\n",
       "       0, 0, 0, 0, 0, 0, 0, 0, 0, 0, 0, 0, 0, 0, 0, 0, 0, 0, 0, 0, 0, 0,\n",
       "       0, 0, 0, 0, 0, 0, 0, 0, 0, 0, 0, 0, 0, 0, 0, 0, 0, 0, 0, 0, 0, 0,\n",
       "       0, 0, 0, 0, 0, 0, 0, 0, 0, 0])"
      ]
     },
     "execution_count": 86,
     "metadata": {},
     "output_type": "execute_result"
    }
   ],
   "source": [
    "new_layout"
   ]
  },
  {
   "cell_type": "code",
   "execution_count": 87,
   "id": "2868da81",
   "metadata": {},
   "outputs": [
    {
     "name": "stdout",
     "output_type": "stream",
     "text": [
      "Z-score: 1.8831\n",
      "P-value: 0.0597\n",
      "Fail to reject the null hypothesis: No significant difference in conversion rates.\n"
     ]
    }
   ],
   "source": [
    "from scipy.stats import norm\n",
    "\n",
    "# Conversion rates =  Conversion rate is the proportion of purchases (1s) to total visitors.\n",
    "p_old = np.mean(old_layout)  # Proportion for old layout, p_old = 50/1000 = 0.05\n",
    "p_new = np.mean(new_layout)  # Proportion for new layout, p_new = 70/1000 = 0.07\n",
    "\n",
    "# Pooled proportion = The pooled proportion combines the successes from both layouts = tot. purchases/tot. visitors\n",
    "# 50+70/ 1000+1000 = 0.06\n",
    "n_old, n_new = len(old_layout), len(new_layout)\n",
    "p_pooled = (np.sum(old_layout) + np.sum(new_layout)) / (n_old + n_new)\n",
    "\n",
    "# Standard error = measures the variability between the two proportions: sqrt(Ppooled(1-Ppooled)(1/n_old + 1/n_new))\n",
    "se = np.sqrt(p_pooled * (1 - p_pooled) * (1 / n_old + 1 / n_new))\n",
    "\n",
    "# Z-score = The z-score measures how far the observed difference between p_new and p_old is from zero (the null hypothesis).\n",
    "z = (p_new - p_old) / se\n",
    "\n",
    "# Two-tailed p-value = prob. of observing a z-score as extreme as the calculated one, assuming the null hypothesis is true\n",
    "p_value = 2 * (1 - norm.cdf(abs(z)))\n",
    "\n",
    "print(f\"Z-score: {z:.4f}\")\n",
    "print(f\"P-value: {p_value:.4f}\")\n",
    "\n",
    "# Decision = Compare the p-value to the significance level \"alpha = 0.05\"\n",
    "# If p-value < 0.05: Significant difference (new layout is better).\n",
    "# Otherwise: No significant difference.\n",
    "\n",
    "alpha = 0.05\n",
    "if p_value < alpha:\n",
    "    print(\"Reject the null hypothesis: The new layout leads to a higher conversion rate.\")\n",
    "else:\n",
    "    print(\"Fail to reject the null hypothesis: No significant difference in conversion rates.\")"
   ]
  },
  {
   "cell_type": "markdown",
   "id": "94178346",
   "metadata": {},
   "source": [
    "# Q12.  A tutoring service claims that its program improves students' exam scores. A sample of students who participated in the program was taken, and their scores before and after the program were recorded. Use the below code to generate samples of respective arrays of marks:\n",
    "\n",
    " ```python\n",
    " before_program = np.array([75, 80, 85, 70, 90, 78, 92, 88, 82, 87])\n",
    " after_program = np.array([80, 85, 90, 80, 92, 80, 95, 90, 85, 88])\n",
    " ```\n",
    " Use z-test to find if the claims made by tutor are true or false."
   ]
  },
  {
   "cell_type": "code",
   "execution_count": 9,
   "id": "bd2c171c",
   "metadata": {},
   "outputs": [
    {
     "name": "stdout",
     "output_type": "stream",
     "text": [
      "Mean of differences: 3.80\n",
      "Standard deviation of differences: 2.62\n",
      "Z-score: 4.5932\n",
      "P-value: 0.0000043652\n",
      "Reject the null hypothesis: The tutoring program significantly improves exam scores.\n"
     ]
    }
   ],
   "source": [
    "from scipy.stats import norm\n",
    "import numpy as np\n",
    "\n",
    "# Data\n",
    "before_program = np.array([75, 80, 85, 70, 90, 78, 92, 88, 82, 87])\n",
    "after_program = np.array([80, 85, 90, 80, 92, 80, 95, 90, 85, 88])\n",
    "\n",
    "# Calculate the differences\n",
    "differences = after_program - before_program\n",
    "\n",
    "# Mean and standard deviation of differences\n",
    "mean_diff = np.mean(differences)\n",
    "std_diff = np.std(differences, ddof=1)  # Sample standard deviation\n",
    "\n",
    "# Number of samples\n",
    "n = len(differences)\n",
    "\n",
    "# Standard error\n",
    "se = std_diff / np.sqrt(n)\n",
    "\n",
    "# Z-score\n",
    "z = mean_diff / se\n",
    "\n",
    "# Two-tailed p-value\n",
    "p_value = 2 * (1 - norm.cdf(abs(z)))\n",
    "\n",
    "# Print results\n",
    "print(f\"Mean of differences: {mean_diff:.2f}\")\n",
    "print(f\"Standard deviation of differences: {std_diff:.2f}\")\n",
    "print(f\"Z-score: {z:.4f}\")\n",
    "print(f\"P-value: {p_value:.10f}\")\n",
    "\n",
    "# Decision\n",
    "alpha = 0.05\n",
    "if p_value < alpha:\n",
    "    print(\"Reject the null hypothesis: The tutoring program significantly improves exam scores.\")\n",
    "else:\n",
    "    print(\"Fail to reject the null hypothesis: No significant improvement in exam scores.\")"
   ]
  },
  {
   "cell_type": "markdown",
   "id": "c341801a",
   "metadata": {},
   "source": [
    "# Q13.  A pharmaceutical company wants to determine if a new drug is effective in reducing blood pressure. They conduct a study and record blood pressure measurements before and after administering the drug. Use the below code to generate samples of respective arrays of blood pressure:\n",
    "\n",
    " ```python\n",
    " before_drug = np.array([145, 150, 140, 135, 155, 160, 152, 148, 130, 138])\n",
    " after_drug = np.array([130, 140, 132, 128, 145, 148, 138, 136, 125, 130])\n",
    " ```\n",
    " Implement z-test to find if the drug really works or not."
   ]
  },
  {
   "cell_type": "code",
   "execution_count": 2,
   "id": "3efa774c",
   "metadata": {},
   "outputs": [],
   "source": [
    "import numpy as np\n",
    "\n",
    "# generate samples of respective arrays of blood pressure\n",
    "before_drug = np.array([145, 150, 140, 135, 155, 160, 152, 148, 130, 138])\n",
    "after_drug = np.array([130, 140, 132, 128, 145, 148, 138, 136, 125, 130])"
   ]
  },
  {
   "cell_type": "code",
   "execution_count": 3,
   "id": "d1c6300c",
   "metadata": {},
   "outputs": [],
   "source": [
    "# calculate the difference\n",
    "difference = after_drug - before_drug"
   ]
  },
  {
   "cell_type": "code",
   "execution_count": 4,
   "id": "1961d52e",
   "metadata": {},
   "outputs": [],
   "source": [
    "# Mean and standard deviation of differences\n",
    "mean_differ = np.mean(difference)\n",
    "std_differ = np.std(difference, ddof=1)  # Sample standard deviation"
   ]
  },
  {
   "cell_type": "code",
   "execution_count": 5,
   "id": "73382b0c",
   "metadata": {},
   "outputs": [],
   "source": [
    "# Number of samples\n",
    "n = len(difference)\n",
    "\n",
    "# Standard error\n",
    "se = std_differ / np.sqrt(n)\n",
    "\n",
    "# Z-score\n",
    "z = mean_differ / se"
   ]
  },
  {
   "cell_type": "code",
   "execution_count": 10,
   "id": "06d91c6c",
   "metadata": {},
   "outputs": [
    {
     "name": "stdout",
     "output_type": "stream",
     "text": [
      "Mean of differences: -10.10\n",
      "Standard deviation of differences: 3.18\n",
      "Z-score: 4.5932\n",
      "P-value: 0.0000043652\n",
      "Reject the null hypothesis: The new drug is effective in reducing blood pressure.\n"
     ]
    }
   ],
   "source": [
    "from scipy.stats import norm\n",
    "\n",
    "# Two-tailed p-value\n",
    "p_value = 2 * (1 - norm.cdf(abs(z)))\n",
    "\n",
    "# Print results\n",
    "print(f\"Mean of differences: {mean_differ:.2f}\")\n",
    "print(f\"Standard deviation of differences: {std_differ:.2f}\")\n",
    "print(f\"Z-score: {z:.4f}\")\n",
    "print(f\"P-value: {p_value:.10f}\")\n",
    "\n",
    "# Decision\n",
    "alpha = 0.05\n",
    "if p_value < alpha:\n",
    "    print(\"Reject the null hypothesis: The new drug is effective in reducing blood pressure.\")\n",
    "else:\n",
    "    print(\"Fail to reject the null hypothesis: The new drug is not effective in reducing blood pressure.\")"
   ]
  },
  {
   "cell_type": "markdown",
   "id": "85268de8",
   "metadata": {},
   "source": [
    "# Q14. A customer service department claims that their average response time is less than 5 minutes. A sample of recent customer interactions was taken, and the response times were recorded. Implement the below code to generate the array of response time:\n",
    "\n",
    " ```python\n",
    " response_times = np.array([4.3, 3.8, 5.1, 4.9, 4.7, 4.2, 5.2, 4.5, 4.6, 4.4])\n",
    " ```\n",
    " Implement z-test to find the claims made by customer service department are tru or false."
   ]
  },
  {
   "cell_type": "code",
   "execution_count": 11,
   "id": "4cb2a36b",
   "metadata": {},
   "outputs": [
    {
     "name": "stdout",
     "output_type": "stream",
     "text": [
      "Sample Mean: 4.5700\n",
      "Z-Score: -2.7196\n",
      "P-Value: 0.0033\n",
      "Reject the null hypothesis: The claim that the average response time is less than 5 minutes is true.\n"
     ]
    }
   ],
   "source": [
    "import numpy as np\n",
    "from scipy.stats import norm\n",
    "\n",
    "# Data: Response times\n",
    "response_times = np.array([4.3, 3.8, 5.1, 4.9, 4.7, 4.2, 5.2, 4.5, 4.6, 4.4])\n",
    "\n",
    "# Known population mean (claimed average response time)\n",
    "mu = 5  # Population mean\n",
    "sigma = 0.5  # Assume population standard deviation is known (e.g., 0.5 minutes)\n",
    "\n",
    "# Sample statistics\n",
    "sample_mean = np.mean(response_times)\n",
    "n = len(response_times)\n",
    "\n",
    "# Standard error of the mean\n",
    "se = sigma / np.sqrt(n)\n",
    "\n",
    "# Z-score calculation\n",
    "z = (sample_mean - mu) / se\n",
    "\n",
    "# One-tailed p-value\n",
    "p_value = norm.cdf(z)  # Using the left tail as we test for less than 5\n",
    "\n",
    "# Decision\n",
    "alpha = 0.05  # Significance level\n",
    "print(f\"Sample Mean: {sample_mean:.4f}\")\n",
    "print(f\"Z-Score: {z:.4f}\")\n",
    "print(f\"P-Value: {p_value:.4f}\")\n",
    "\n",
    "if p_value < alpha:\n",
    "    print(\"Reject the null hypothesis: The claim that the average response time is less than 5 minutes is true.\")\n",
    "else:\n",
    "    print(\"Fail to reject the null hypothesis: The claim that the average response time is less than 5 minutes is not supported.\")"
   ]
  },
  {
   "cell_type": "markdown",
   "id": "3897b65a",
   "metadata": {},
   "source": [
    "# Q15. A company is testing two different website layouts to see which one leads to higher click-through rates. Write a Python function to perform an A/B test analysis, including calculating the t-statistic, degrees of freedom, and p-value. Use the following data:\n",
    "\n",
    " ```python\n",
    " layout_a_clicks = [28, 32, 33, 29, 31, 34, 30, 35, 36, 37]\n",
    " layout_b_clicks = [40, 41, 38, 42, 39, 44, 43, 41, 45, 47]\n",
    " ```"
   ]
  },
  {
   "cell_type": "code",
   "execution_count": 12,
   "id": "b41affb1",
   "metadata": {},
   "outputs": [
    {
     "name": "stdout",
     "output_type": "stream",
     "text": [
      "Mean (Layout A): 32.5000\n",
      "Mean (Layout B): 42.0000\n",
      "Standard Deviation (Layout A): 3.0277\n",
      "Standard Deviation (Layout B): 2.7889\n",
      "T-Statistic: 7.2981\n",
      "Degrees of Freedom: 17.8799\n",
      "P-Value: 0.0000\n",
      "Reject the null hypothesis: There is a significant difference between the layouts.\n"
     ]
    }
   ],
   "source": [
    "import numpy as np\n",
    "from scipy.stats import t\n",
    "\n",
    "def ab_test_analysis(layout_a_clicks, layout_b_clicks):\n",
    "    # Convert to numpy arrays\n",
    "    a = np.array(layout_a_clicks)\n",
    "    b = np.array(layout_b_clicks)\n",
    "    \n",
    "    # Sample statistics\n",
    "    mean_a = np.mean(a)\n",
    "    mean_b = np.mean(b)\n",
    "    std_a = np.std(a, ddof=1)  # Sample standard deviation\n",
    "    std_b = np.std(b, ddof=1)\n",
    "    n_a = len(a)\n",
    "    n_b = len(b)\n",
    "    \n",
    "    # Calculate t-statistic\n",
    "    pooled_se = np.sqrt((std_a**2 / n_a) + (std_b**2 / n_b))  # Standard error of the difference\n",
    "    t_stat = (mean_b - mean_a) / pooled_se\n",
    "    \n",
    "    # Degrees of freedom (Welch's t-test formula)\n",
    "    df = ((std_a**2 / n_a) + (std_b**2 / n_b))**2 / \\\n",
    "         ((std_a**2 / n_a)**2 / (n_a - 1) + (std_b**2 / n_b)**2 / (n_b - 1))\n",
    "    \n",
    "    # Two-tailed p-value\n",
    "    p_value = 2 * (1 - t.cdf(abs(t_stat), df))\n",
    "    \n",
    "    # Output results\n",
    "    print(f\"Mean (Layout A): {mean_a:.4f}\")\n",
    "    print(f\"Mean (Layout B): {mean_b:.4f}\")\n",
    "    print(f\"Standard Deviation (Layout A): {std_a:.4f}\")\n",
    "    print(f\"Standard Deviation (Layout B): {std_b:.4f}\")\n",
    "    print(f\"T-Statistic: {t_stat:.4f}\")\n",
    "    print(f\"Degrees of Freedom: {df:.4f}\")\n",
    "    print(f\"P-Value: {p_value:.4f}\")\n",
    "    \n",
    "    # Decision\n",
    "    alpha = 0.05\n",
    "    if p_value < alpha:\n",
    "        print(\"Reject the null hypothesis: There is a significant difference between the layouts.\")\n",
    "    else:\n",
    "        print(\"Fail to reject the null hypothesis: No significant difference between the layouts.\")\n",
    "\n",
    "# Test the function\n",
    "layout_a_clicks = [28, 32, 33, 29, 31, 34, 30, 35, 36, 37]\n",
    "layout_b_clicks = [40, 41, 38, 42, 39, 44, 43, 41, 45, 47]\n",
    "ab_test_analysis(layout_a_clicks, layout_b_clicks)"
   ]
  },
  {
   "cell_type": "markdown",
   "id": "d3aaa41d",
   "metadata": {},
   "source": [
    "# Q16. A pharmaceutical company wants to determine if a new drug is more effective than an existing drug in reducing cholesterol levels. Create a program to analyze the clinical trial data and calculate the t. Use the following data of cholestrol level:\n",
    "\n",
    " ```python\n",
    " existing_drug_levels = [180, 182, 175, 185, 178, 176, 172, 184, 179, 183]\n",
    " new_drug_levels = [170, 172, 165, 168, 175, 173, 170, 178, 172, 176]\n",
    " ```"
   ]
  },
  {
   "cell_type": "code",
   "execution_count": 13,
   "id": "1097e56b",
   "metadata": {},
   "outputs": [
    {
     "name": "stdout",
     "output_type": "stream",
     "text": [
      "Mean (Existing Drug): 179.4000\n",
      "Mean (New Drug): 171.9000\n",
      "Standard Deviation (Existing Drug): 4.2216\n",
      "Standard Deviation (New Drug): 3.8715\n",
      "T-Statistic: -4.1405\n",
      "Degrees of Freedom: 17.8668\n",
      "P-Value: 0.0006\n",
      "Reject the null hypothesis: The new drug is more effective than the existing drug.\n"
     ]
    }
   ],
   "source": [
    "import numpy as np\n",
    "from scipy.stats import t\n",
    "\n",
    "def analyze_drug_effectiveness(existing_levels, new_levels):\n",
    "    # Convert to numpy arrays\n",
    "    existing = np.array(existing_levels)\n",
    "    new = np.array(new_levels)\n",
    "    \n",
    "    # Sample statistics\n",
    "    mean_existing = np.mean(existing)\n",
    "    mean_new = np.mean(new)\n",
    "    std_existing = np.std(existing, ddof=1)  # Sample standard deviation\n",
    "    std_new = np.std(new, ddof=1)\n",
    "    n_existing = len(existing)\n",
    "    n_new = len(new)\n",
    "    \n",
    "    # Calculate t-statistic\n",
    "    pooled_se = np.sqrt((std_existing**2 / n_existing) + (std_new**2 / n_new))  # Standard error of the difference\n",
    "    t_stat = (mean_new - mean_existing) / pooled_se\n",
    "    \n",
    "    # Degrees of freedom (Welch's t-test formula)\n",
    "    df = ((std_existing**2 / n_existing) + (std_new**2 / n_new))**2 / \\\n",
    "         ((std_existing**2 / n_existing)**2 / (n_existing - 1) + (std_new**2 / n_new)**2 / (n_new - 1))\n",
    "    \n",
    "    # Two-tailed p-value\n",
    "    p_value = 2 * (1 - t.cdf(abs(t_stat), df))\n",
    "    \n",
    "    # Output results\n",
    "    print(f\"Mean (Existing Drug): {mean_existing:.4f}\")\n",
    "    print(f\"Mean (New Drug): {mean_new:.4f}\")\n",
    "    print(f\"Standard Deviation (Existing Drug): {std_existing:.4f}\")\n",
    "    print(f\"Standard Deviation (New Drug): {std_new:.4f}\")\n",
    "    print(f\"T-Statistic: {t_stat:.4f}\")\n",
    "    print(f\"Degrees of Freedom: {df:.4f}\")\n",
    "    print(f\"P-Value: {p_value:.4f}\")\n",
    "    \n",
    "    # Decision\n",
    "    alpha = 0.05\n",
    "    if p_value < alpha:\n",
    "        print(\"Reject the null hypothesis: The new drug is more effective than the existing drug.\")\n",
    "    else:\n",
    "        print(\"Fail to reject the null hypothesis: No significant difference in effectiveness between the drugs.\")\n",
    "\n",
    "# Test the function\n",
    "existing_drug_levels = [180, 182, 175, 185, 178, 176, 172, 184, 179, 183]\n",
    "new_drug_levels = [170, 172, 165, 168, 175, 173, 170, 178, 172, 176]\n",
    "analyze_drug_effectiveness(existing_drug_levels, new_drug_levels)"
   ]
  },
  {
   "cell_type": "markdown",
   "id": "860ef413",
   "metadata": {},
   "source": [
    "# Q17. A school district introduces an educational intervention program to improve math scores. Write a Python function to analyze pre- and post-intervention test scores, calculating the t-statistic and p-value to determine if the intervention had a significant impact. Use the following data of test score:\n",
    "\n",
    " ```python\n",
    " pre_intervention_scores = [80, 85, 90, 75, 88, 82, 92, 78, 85, 87]\n",
    " post_intervention_scores = [90, 92, 88, 92, 95, 91, 96, 93, 89, 93]\n",
    " ```"
   ]
  },
  {
   "cell_type": "code",
   "execution_count": 14,
   "id": "9b11c301",
   "metadata": {},
   "outputs": [
    {
     "name": "stdout",
     "output_type": "stream",
     "text": [
      "Mean Difference: 7.7000\n",
      "Standard Deviation of Differences: 5.4985\n",
      "T-Statistic: 4.4284\n",
      "Degrees of Freedom: 9\n",
      "P-Value: 0.0017\n",
      "Reject the null hypothesis: The intervention had a significant impact on math scores.\n"
     ]
    }
   ],
   "source": [
    "import numpy as np\n",
    "from scipy.stats import t\n",
    "\n",
    "def analyze_intervention(pre_scores, post_scores):\n",
    "    # Convert to numpy arrays\n",
    "    pre = np.array(pre_scores)\n",
    "    post = np.array(post_scores)\n",
    "    \n",
    "    # Calculate the differences\n",
    "    differences = post - pre\n",
    "    \n",
    "    # Sample statistics\n",
    "    mean_diff = np.mean(differences)\n",
    "    std_diff = np.std(differences, ddof=1)\n",
    "    n = len(differences)\n",
    "    \n",
    "    # Calculate t-statistic\n",
    "    se_diff = std_diff / np.sqrt(n)  # Standard error of the mean difference\n",
    "    t_stat = mean_diff / se_diff\n",
    "    \n",
    "    # Degrees of freedom\n",
    "    df = n - 1\n",
    "    \n",
    "    # Two-tailed p-value\n",
    "    p_value = 2 * (1 - t.cdf(abs(t_stat), df))\n",
    "    \n",
    "    # Output results\n",
    "    print(f\"Mean Difference: {mean_diff:.4f}\")\n",
    "    print(f\"Standard Deviation of Differences: {std_diff:.4f}\")\n",
    "    print(f\"T-Statistic: {t_stat:.4f}\")\n",
    "    print(f\"Degrees of Freedom: {df}\")\n",
    "    print(f\"P-Value: {p_value:.4f}\")\n",
    "    \n",
    "    # Decision\n",
    "    alpha = 0.05\n",
    "    if p_value < alpha:\n",
    "        print(\"Reject the null hypothesis: The intervention had a significant impact on math scores.\")\n",
    "    else:\n",
    "        print(\"Fail to reject the null hypothesis: No significant impact of the intervention on math scores.\")\n",
    "\n",
    "# Test the function\n",
    "pre_intervention_scores = [80, 85, 90, 75, 88, 82, 92, 78, 85, 87]\n",
    "post_intervention_scores = [90, 92, 88, 92, 95, 91, 96, 93, 89, 93]\n",
    "analyze_intervention(pre_intervention_scores, post_intervention_scores)"
   ]
  },
  {
   "cell_type": "markdown",
   "id": "656c9b51",
   "metadata": {},
   "source": [
    "# Q18. An HR department wants to investigate if there's a gender-based salary gap within the company. Develop a program to analyze salary data, calculate the t-statistic, and determine if there's a statistically significant difference between the average salaries of male and female employees. Use the below code to generate synthetic data:\n",
    "\n",
    " ```python\n",
    " # Generate synthetic salary data for male and female employees\n",
    " np.random.seed(0)  # For reproducibility\n",
    " male_salaries = np.random.normal(loc=50000, scale=10000, size=20)\n",
    " female_salaries = np.random.normal(loc=55000, scale=9000, size=20)\n",
    " ```"
   ]
  },
  {
   "cell_type": "code",
   "execution_count": 15,
   "id": "083eabcb",
   "metadata": {},
   "outputs": [
    {
     "name": "stdout",
     "output_type": "stream",
     "text": [
      "Mean (Males): $55693.35\n",
      "Mean (Females): $55501.75\n",
      "Standard Deviation (Males): $8722.69\n",
      "Standard Deviation (Females): $10968.10\n",
      "T-Statistic: -0.0611\n",
      "Degrees of Freedom: 36.1668\n",
      "P-Value: 0.9516\n",
      "Fail to reject the null hypothesis: No significant gender-based salary gap.\n"
     ]
    }
   ],
   "source": [
    "import numpy as np\n",
    "from scipy.stats import t\n",
    "\n",
    "def analyze_salary_gap(male_salaries, female_salaries):\n",
    "    # Convert to numpy arrays\n",
    "    males = np.array(male_salaries)\n",
    "    females = np.array(female_salaries)\n",
    "    \n",
    "    # Sample statistics\n",
    "    mean_males = np.mean(males)\n",
    "    mean_females = np.mean(females)\n",
    "    std_males = np.std(males, ddof=1)  # Sample standard deviation\n",
    "    std_females = np.std(females, ddof=1)\n",
    "    n_males = len(males)\n",
    "    n_females = len(females)\n",
    "    \n",
    "    # Calculate t-statistic\n",
    "    pooled_se = np.sqrt((std_males**2 / n_males) + (std_females**2 / n_females))  # Standard error of the difference\n",
    "    t_stat = (mean_females - mean_males) / pooled_se\n",
    "    \n",
    "    # Degrees of freedom (Welch's t-test formula)\n",
    "    df = ((std_males**2 / n_males) + (std_females**2 / n_females))**2 / \\\n",
    "         ((std_males**2 / n_males)**2 / (n_males - 1) + (std_females**2 / n_females)**2 / (n_females - 1))\n",
    "    \n",
    "    # Two-tailed p-value\n",
    "    p_value = 2 * (1 - t.cdf(abs(t_stat), df))\n",
    "    \n",
    "    # Output results\n",
    "    print(f\"Mean (Males): ${mean_males:.2f}\")\n",
    "    print(f\"Mean (Females): ${mean_females:.2f}\")\n",
    "    print(f\"Standard Deviation (Males): ${std_males:.2f}\")\n",
    "    print(f\"Standard Deviation (Females): ${std_females:.2f}\")\n",
    "    print(f\"T-Statistic: {t_stat:.4f}\")\n",
    "    print(f\"Degrees of Freedom: {df:.4f}\")\n",
    "    print(f\"P-Value: {p_value:.4f}\")\n",
    "    \n",
    "    # Decision\n",
    "    alpha = 0.05\n",
    "    if p_value < alpha:\n",
    "        print(\"Reject the null hypothesis: There is a significant gender-based salary gap.\")\n",
    "    else:\n",
    "        print(\"Fail to reject the null hypothesis: No significant gender-based salary gap.\")\n",
    "\n",
    "# Generate synthetic data\n",
    "np.random.seed(0)  # For reproducibility\n",
    "male_salaries = np.random.normal(loc=50000, scale=10000, size=20)\n",
    "female_salaries = np.random.normal(loc=55000, scale=9000, size=20)\n",
    "\n",
    "# Analyze salary gap\n",
    "analyze_salary_gap(male_salaries, female_salaries)"
   ]
  },
  {
   "cell_type": "markdown",
   "id": "900ddb0d",
   "metadata": {},
   "source": [
    "# Q19. A manufacturer produces two different versions of a product and wants to compare their quality scores. Create a Python function to analyze quality assessment data, calculate the t-statistic, and decide whether there's a significant difference in quality between the two versions. Use the following data:\n",
    "\n",
    " ```python\n",
    " version1_scores = [85, 88, 82, 89, 87, 84, 90, 88, 85, 86, 91, 83, 87, 84, 89, 86, 84, 88, 85, 86, 89, 90, 87, 88, 85]\n",
    " version2_scores = [80, 78, 83, 81, 79, 82, 76, 80, 78, 81, 77, 82, 80, 79, 82, 79, 80, 81, 79, 82, 79, 78, 80, 81, 82]\n",
    " ```"
   ]
  },
  {
   "cell_type": "code",
   "execution_count": 16,
   "id": "35fcd235",
   "metadata": {},
   "outputs": [
    {
     "name": "stdout",
     "output_type": "stream",
     "text": [
      "Mean (Version 1): 86.64\n",
      "Mean (Version 2): 79.96\n",
      "Standard Deviation (Version 1): 2.36\n",
      "Standard Deviation (Version 2): 1.77\n",
      "T-Statistic: 11.3258\n",
      "Degrees of Freedom: 44.4706\n",
      "P-Value: 0.0000\n",
      "Reject the null hypothesis: There is a significant difference in quality between the two versions.\n"
     ]
    }
   ],
   "source": [
    "import numpy as np\n",
    "from scipy.stats import t\n",
    "\n",
    "def analyze_quality_scores(version1_scores, version2_scores):\n",
    "    # Convert to numpy arrays\n",
    "    version1 = np.array(version1_scores)\n",
    "    version2 = np.array(version2_scores)\n",
    "    \n",
    "    # Sample statistics\n",
    "    mean_version1 = np.mean(version1)\n",
    "    mean_version2 = np.mean(version2)\n",
    "    std_version1 = np.std(version1, ddof=1)  # Sample standard deviation\n",
    "    std_version2 = np.std(version2, ddof=1)\n",
    "    n_version1 = len(version1)\n",
    "    n_version2 = len(version2)\n",
    "    \n",
    "    # Calculate t-statistic\n",
    "    pooled_se = np.sqrt((std_version1**2 / n_version1) + (std_version2**2 / n_version2))  # Standard error of the difference\n",
    "    t_stat = (mean_version1 - mean_version2) / pooled_se\n",
    "    \n",
    "    # Degrees of freedom (Welch's t-test formula)\n",
    "    df = ((std_version1**2 / n_version1) + (std_version2**2 / n_version2))**2 / \\\n",
    "         ((std_version1**2 / n_version1)**2 / (n_version1 - 1) + (std_version2**2 / n_version2)**2 / (n_version2 - 1))\n",
    "    \n",
    "    # Two-tailed p-value\n",
    "    p_value = 2 * (1 - t.cdf(abs(t_stat), df))\n",
    "    \n",
    "    # Output results\n",
    "    print(f\"Mean (Version 1): {mean_version1:.2f}\")\n",
    "    print(f\"Mean (Version 2): {mean_version2:.2f}\")\n",
    "    print(f\"Standard Deviation (Version 1): {std_version1:.2f}\")\n",
    "    print(f\"Standard Deviation (Version 2): {std_version2:.2f}\")\n",
    "    print(f\"T-Statistic: {t_stat:.4f}\")\n",
    "    print(f\"Degrees of Freedom: {df:.4f}\")\n",
    "    print(f\"P-Value: {p_value:.4f}\")\n",
    "    \n",
    "    # Decision\n",
    "    alpha = 0.05\n",
    "    if p_value < alpha:\n",
    "        print(\"Reject the null hypothesis: There is a significant difference in quality between the two versions.\")\n",
    "    else:\n",
    "        print(\"Fail to reject the null hypothesis: No significant difference in quality between the two versions.\")\n",
    "\n",
    "# Quality scores for the two versions\n",
    "version1_scores = [85, 88, 82, 89, 87, 84, 90, 88, 85, 86, 91, 83, 87, 84, 89, 86, 84, 88, 85, 86, 89, 90, 87, 88, 85]\n",
    "version2_scores = [80, 78, 83, 81, 79, 82, 76, 80, 78, 81, 77, 82, 80, 79, 82, 79, 80, 81, 79, 82, 79, 78, 80, 81, 82]\n",
    "\n",
    "# Analyze quality scores\n",
    "analyze_quality_scores(version1_scores, version2_scores)"
   ]
  },
  {
   "cell_type": "markdown",
   "id": "18343b79",
   "metadata": {},
   "source": [
    "# Q20. A restaurant chain collects customer satisfaction scores for two different branches. Write a program to analyze the scores, calculate the t-statistic, and determine if there's a statistically significant difference in customer satisfaction between the branches. Use the below data of scores:\n",
    " ```python\n",
    " branch_a_scores = [4, 5, 3, 4, 5, 4, 5, 3, 4, 4, 5, 4, 4, 3, 4, 5, 5, 4, 3, 4, 5, 4, 3, 5, 4, 4, 5, 3, 4, 5, 4]\n",
    " branch_b_scores = [3, 4, 2, 3, 4, 3, 4, 2, 3, 3, 4, 3, 3, 2, 3, 4, 4, 3, 2, 3, 4, 3, 2, 4, 3, 3, 4, 2, 3, 4, 3]\n",
    " ```"
   ]
  },
  {
   "cell_type": "code",
   "execution_count": 17,
   "id": "de532337",
   "metadata": {},
   "outputs": [
    {
     "name": "stdout",
     "output_type": "stream",
     "text": [
      "Mean (Branch A): 4.13\n",
      "Mean (Branch B): 3.13\n",
      "Standard Deviation (Branch A): 0.72\n",
      "Standard Deviation (Branch B): 0.72\n",
      "T-Statistic: 5.4801\n",
      "Degrees of Freedom: 60.0000\n",
      "P-Value: 0.0000\n",
      "Reject the null hypothesis: There is a significant difference in customer satisfaction between the branches.\n"
     ]
    }
   ],
   "source": [
    "import numpy as np\n",
    "from scipy.stats import t\n",
    "\n",
    "def analyze_customer_satisfaction(branch_a_scores, branch_b_scores):\n",
    "    # Convert to numpy arrays\n",
    "    branch_a = np.array(branch_a_scores)\n",
    "    branch_b = np.array(branch_b_scores)\n",
    "    \n",
    "    # Sample statistics\n",
    "    mean_branch_a = np.mean(branch_a)\n",
    "    mean_branch_b = np.mean(branch_b)\n",
    "    std_branch_a = np.std(branch_a, ddof=1)  # Sample standard deviation\n",
    "    std_branch_b = np.std(branch_b, ddof=1)\n",
    "    n_branch_a = len(branch_a)\n",
    "    n_branch_b = len(branch_b)\n",
    "    \n",
    "    # Calculate t-statistic\n",
    "    pooled_se = np.sqrt((std_branch_a**2 / n_branch_a) + (std_branch_b**2 / n_branch_b))  # Standard error of the difference\n",
    "    t_stat = (mean_branch_a - mean_branch_b) / pooled_se\n",
    "    \n",
    "    # Degrees of freedom (Welch's t-test formula)\n",
    "    df = ((std_branch_a**2 / n_branch_a) + (std_branch_b**2 / n_branch_b))**2 / \\\n",
    "         ((std_branch_a**2 / n_branch_a)**2 / (n_branch_a - 1) + (std_branch_b**2 / n_branch_b)**2 / (n_branch_b - 1))\n",
    "    \n",
    "    # Two-tailed p-value\n",
    "    p_value = 2 * (1 - t.cdf(abs(t_stat), df))\n",
    "    \n",
    "    # Output results\n",
    "    print(f\"Mean (Branch A): {mean_branch_a:.2f}\")\n",
    "    print(f\"Mean (Branch B): {mean_branch_b:.2f}\")\n",
    "    print(f\"Standard Deviation (Branch A): {std_branch_a:.2f}\")\n",
    "    print(f\"Standard Deviation (Branch B): {std_branch_b:.2f}\")\n",
    "    print(f\"T-Statistic: {t_stat:.4f}\")\n",
    "    print(f\"Degrees of Freedom: {df:.4f}\")\n",
    "    print(f\"P-Value: {p_value:.4f}\")\n",
    "    \n",
    "    # Decision\n",
    "    alpha = 0.05\n",
    "    if p_value < alpha:\n",
    "        print(\"Reject the null hypothesis: There is a significant difference in customer satisfaction between the branches.\")\n",
    "    else:\n",
    "        print(\"Fail to reject the null hypothesis: No significant difference in customer satisfaction between the branches.\")\n",
    "\n",
    "# Customer satisfaction scores\n",
    "branch_a_scores = [4, 5, 3, 4, 5, 4, 5, 3, 4, 4, 5, 4, 4, 3, 4, 5, 5, 4, 3, 4, 5, 4, 3, 5, 4, 4, 5, 3, 4, 5, 4]\n",
    "branch_b_scores = [3, 4, 2, 3, 4, 3, 4, 2, 3, 3, 4, 3, 3, 2, 3, 4, 4, 3, 2, 3, 4, 3, 2, 4, 3, 3, 4, 2, 3, 4, 3]\n",
    "\n",
    "# Analyze customer satisfaction\n",
    "analyze_customer_satisfaction(branch_a_scores, branch_b_scores)"
   ]
  },
  {
   "cell_type": "markdown",
   "id": "adbf1f56",
   "metadata": {},
   "source": [
    "# Q21. A political analyst wants to determine if there is a significant association between age groups and voter preferences (Candidate A or Candidate B). They collect data from a sample of 500 voters and classify them into different age groups and candidate preferences. Perform a Chi-Square test to determine if there is a significant association between age groups and voter preferences. Use the below code to generate data:\n",
    "\n",
    " ```python\n",
    " np.random.seed(0)\n",
    " age_groups = np.random.choice(['18-30', '31-50', '51+', '51+'], size=30)\n",
    " voter_preferences = np.random.choice(['Candidate A', 'Candidate B'], size=30)\n",
    " ```"
   ]
  },
  {
   "cell_type": "code",
   "execution_count": 18,
   "id": "a5c1738f",
   "metadata": {},
   "outputs": [
    {
     "name": "stdout",
     "output_type": "stream",
     "text": [
      "Contingency Table:\n",
      "Preference  Candidate A  Candidate B\n",
      "Age Group                           \n",
      "18-30                 4            8\n",
      "31-50                 6            5\n",
      "51+                   4            3\n",
      "\n",
      "Expected Frequencies:\n",
      "Preference  Candidate A  Candidate B\n",
      "Age Group                           \n",
      "18-30          5.600000     6.400000\n",
      "31-50          5.133333     5.866667\n",
      "51+            3.266667     3.733333\n",
      "\n",
      "Chi-Square Statistic: 1.4402\n",
      "Degrees of Freedom: 2\n",
      "P-Value: 0.4867\n",
      "Fail to reject the null hypothesis: No significant association between age groups and voter preferences.\n"
     ]
    }
   ],
   "source": [
    "import numpy as np\n",
    "import pandas as pd\n",
    "from scipy.stats import chi2_contingency\n",
    "\n",
    "# Generate synthetic data\n",
    "np.random.seed(0)\n",
    "age_groups = np.random.choice(['18-30', '31-50', '51+'], size=30)\n",
    "voter_preferences = np.random.choice(['Candidate A', 'Candidate B'], size=30)\n",
    "\n",
    "# Create a contingency table\n",
    "data = pd.DataFrame({'Age Group': age_groups, 'Preference': voter_preferences})\n",
    "contingency_table = pd.crosstab(data['Age Group'], data['Preference'])\n",
    "\n",
    "# Perform Chi-Square test\n",
    "chi2, p, dof, expected = chi2_contingency(contingency_table)\n",
    "\n",
    "# Output results\n",
    "print(\"Contingency Table:\")\n",
    "print(contingency_table)\n",
    "print(\"\\nExpected Frequencies:\")\n",
    "print(pd.DataFrame(expected, index=contingency_table.index, columns=contingency_table.columns))\n",
    "print(f\"\\nChi-Square Statistic: {chi2:.4f}\")\n",
    "print(f\"Degrees of Freedom: {dof}\")\n",
    "print(f\"P-Value: {p:.4f}\")\n",
    "\n",
    "# Decision\n",
    "alpha = 0.05\n",
    "if p < alpha:\n",
    "    print(\"Reject the null hypothesis: There is a significant association between age groups and voter preferences.\")\n",
    "else:\n",
    "    print(\"Fail to reject the null hypothesis: No significant association between age groups and voter preferences.\")"
   ]
  },
  {
   "cell_type": "markdown",
   "id": "ca935a78",
   "metadata": {},
   "source": [
    "# Q22. A company conducted a customer satisfaction survey to determine if there is a significant relationship between product satisfaction levels (Satisfied, Neutral, Dissatisfied) and the region where customers are located (East, West, North, South). The survey data is summarized in a contingency table. Conduct a Chi Square test to determine if there is a significant relationship between product satisfaction levels and customer regions.\n",
    "\n",
    " Sample data:\n",
    " ```python\n",
    "    #Sample data: Product satisfaction levels (rows) vs. Customer regions (columns)\n",
    "    data = np.array([[50, 30, 40, 20], [30, 40, 30, 50], [20, 30, 40, 30]])\n",
    " ```"
   ]
  },
  {
   "cell_type": "code",
   "execution_count": 19,
   "id": "010a831e",
   "metadata": {},
   "outputs": [
    {
     "name": "stdout",
     "output_type": "stream",
     "text": [
      "Contingency Table:\n",
      "              East  West  North  South\n",
      "Satisfied       50    30     40     20\n",
      "Neutral         30    40     30     50\n",
      "Dissatisfied    20    30     40     30\n",
      "\n",
      "Expected Frequencies:\n",
      "                   East       West      North      South\n",
      "Satisfied     34.146341  34.146341  37.560976  34.146341\n",
      "Neutral       36.585366  36.585366  40.243902  36.585366\n",
      "Dissatisfied  29.268293  29.268293  32.195122  29.268293\n",
      "\n",
      "Chi-Square Statistic: 27.7771\n",
      "Degrees of Freedom: 6\n",
      "P-Value: 0.0001\n",
      "Reject the null hypothesis: There is a significant relationship between product satisfaction levels and customer regions.\n"
     ]
    }
   ],
   "source": [
    "import numpy as np\n",
    "import pandas as pd\n",
    "from scipy.stats import chi2_contingency\n",
    "\n",
    "# Sample data: Product satisfaction levels (rows) vs. Customer regions (columns)\n",
    "data = np.array([[50, 30, 40, 20], [30, 40, 30, 50], [20, 30, 40, 30]])\n",
    "\n",
    "# Create a contingency table with labels\n",
    "satisfaction_levels = [\"Satisfied\", \"Neutral\", \"Dissatisfied\"]\n",
    "regions = [\"East\", \"West\", \"North\", \"South\"]\n",
    "contingency_table = pd.DataFrame(data, index=satisfaction_levels, columns=regions)\n",
    "\n",
    "# Perform Chi-Square test\n",
    "chi2, p, dof, expected = chi2_contingency(contingency_table)\n",
    "\n",
    "# Output results\n",
    "print(\"Contingency Table:\")\n",
    "print(contingency_table)\n",
    "print(\"\\nExpected Frequencies:\")\n",
    "print(pd.DataFrame(expected, index=contingency_table.index, columns=contingency_table.columns))\n",
    "print(f\"\\nChi-Square Statistic: {chi2:.4f}\")\n",
    "print(f\"Degrees of Freedom: {dof}\")\n",
    "print(f\"P-Value: {p:.4f}\")\n",
    "\n",
    "# Decision\n",
    "alpha = 0.05\n",
    "if p < alpha:\n",
    "    print(\"Reject the null hypothesis: There is a significant relationship between product satisfaction levels and customer regions.\")\n",
    "else:\n",
    "    print(\"Fail to reject the null hypothesis: No significant relationship between product satisfaction levels and customer regions.\")"
   ]
  },
  {
   "cell_type": "markdown",
   "id": "a007648b",
   "metadata": {},
   "source": [
    "# Q23. A company implemented an employee training program to improve job performance (Effective, Neutral, Ineffective). After the training, they collected data from a sample of employees and classified them based on their job performance before and after the training. Perform a Chi-Square test to determine if there is a significant difference between job performance levels before and after the training.\n",
    "\n",
    " Sample data:\n",
    " ```python\n",
    "    # Sample data: Job performance levels before (rows) and after (columns) training\n",
    "    data = np.array([[50, 30, 20], [30, 40, 30], [20, 30, 40]])\n",
    " ```"
   ]
  },
  {
   "cell_type": "code",
   "execution_count": 20,
   "id": "353926a7",
   "metadata": {},
   "outputs": [
    {
     "name": "stdout",
     "output_type": "stream",
     "text": [
      "Contingency Table:\n",
      "             Effective  Neutral  Ineffective\n",
      "Effective           50       30           20\n",
      "Neutral             30       40           30\n",
      "Ineffective         20       30           40\n",
      "\n",
      "Expected Frequencies:\n",
      "             Effective    Neutral  Ineffective\n",
      "Effective    34.482759  34.482759    31.034483\n",
      "Neutral      34.482759  34.482759    31.034483\n",
      "Ineffective  31.034483  31.034483    27.931034\n",
      "\n",
      "Chi-Square Statistic: 22.1617\n",
      "Degrees of Freedom: 4\n",
      "P-Value: 0.0002\n",
      "Reject the null hypothesis: There is a significant difference in job performance levels before and after the training.\n"
     ]
    }
   ],
   "source": [
    "import numpy as np\n",
    "import pandas as pd\n",
    "from scipy.stats import chi2_contingency\n",
    "\n",
    "# Sample data: Job performance levels before (rows) and after (columns) training\n",
    "data = np.array([[50, 30, 20], [30, 40, 30], [20, 30, 40]])\n",
    "\n",
    "# Create a labeled contingency table\n",
    "performance_levels_before = [\"Effective\", \"Neutral\", \"Ineffective\"]\n",
    "performance_levels_after = [\"Effective\", \"Neutral\", \"Ineffective\"]\n",
    "contingency_table = pd.DataFrame(data, index=performance_levels_before, columns=performance_levels_after)\n",
    "\n",
    "# Perform Chi-Square test\n",
    "chi2, p, dof, expected = chi2_contingency(contingency_table)\n",
    "\n",
    "# Output results\n",
    "print(\"Contingency Table:\")\n",
    "print(contingency_table)\n",
    "print(\"\\nExpected Frequencies:\")\n",
    "print(pd.DataFrame(expected, index=contingency_table.index, columns=contingency_table.columns))\n",
    "print(f\"\\nChi-Square Statistic: {chi2:.4f}\")\n",
    "print(f\"Degrees of Freedom: {dof}\")\n",
    "print(f\"P-Value: {p:.4f}\")\n",
    "\n",
    "# Decision\n",
    "alpha = 0.05\n",
    "if p < alpha:\n",
    "    print(\"Reject the null hypothesis: There is a significant difference in job performance levels before and after the training.\")\n",
    "else:\n",
    "    print(\"Fail to reject the null hypothesis: No significant difference in job performance levels before and after the training.\")"
   ]
  },
  {
   "cell_type": "markdown",
   "id": "c2a8f174",
   "metadata": {},
   "source": [
    "# Q24.  A company produces three different versions of a product: Standard, Premium, and Deluxe. The company wants to determine if there is a significant difference in customer satisfaction scores among the three product versions. They conducted a survey and collected customer satisfaction scores for each version from a random sample of customers. Perform an ANOVA test to determine if there is a significant difference in customer satisfaction scores.  Use the following data:\n",
    "\n",
    " ```python\n",
    "    # Sample data: Customer satisfaction scores for each product version\n",
    "    standard_scores = [80, 85, 90, 78, 88, 82, 92, 78, 85, 87]\n",
    "    premium_scores = [90, 92, 88, 92, 95, 91, 96, 93, 89, 93]\n",
    "    deluxe_scores = [95, 98, 92, 97, 96, 94, 98, 97, 92, 99]\n",
    " ```"
   ]
  },
  {
   "cell_type": "code",
   "execution_count": 21,
   "id": "df61135d",
   "metadata": {},
   "outputs": [
    {
     "name": "stdout",
     "output_type": "stream",
     "text": [
      "F-Statistic: 27.0356\n",
      "P-Value: 0.0000\n",
      "Reject the null hypothesis: There is a significant difference in customer satisfaction scores among the product versions.\n"
     ]
    }
   ],
   "source": [
    "import numpy as np\n",
    "from scipy.stats import f_oneway\n",
    "\n",
    "# Sample data: Customer satisfaction scores for each product version\n",
    "standard_scores = [80, 85, 90, 78, 88, 82, 92, 78, 85, 87]\n",
    "premium_scores = [90, 92, 88, 92, 95, 91, 96, 93, 89, 93]\n",
    "deluxe_scores = [95, 98, 92, 97, 96, 94, 98, 97, 92, 99]\n",
    "\n",
    "# Perform one-way ANOVA\n",
    "f_stat, p_value = f_oneway(standard_scores, premium_scores, deluxe_scores)\n",
    "\n",
    "# Output results\n",
    "print(f\"F-Statistic: {f_stat:.4f}\")\n",
    "print(f\"P-Value: {p_value:.4f}\")\n",
    "\n",
    "# Decision\n",
    "alpha = 0.05\n",
    "if p_value < alpha:\n",
    "    print(\"Reject the null hypothesis: There is a significant difference in customer satisfaction scores among the product versions.\")\n",
    "else:\n",
    "    print(\"Fail to reject the null hypothesis: No significant difference in customer satisfaction scores among the product versions.\")"
   ]
  },
  {
   "cell_type": "code",
   "execution_count": null,
   "id": "1a084ae1",
   "metadata": {},
   "outputs": [],
   "source": []
  }
 ],
 "metadata": {
  "kernelspec": {
   "display_name": "Python 3 (ipykernel)",
   "language": "python",
   "name": "python3"
  },
  "language_info": {
   "codemirror_mode": {
    "name": "ipython",
    "version": 3
   },
   "file_extension": ".py",
   "mimetype": "text/x-python",
   "name": "python",
   "nbconvert_exporter": "python",
   "pygments_lexer": "ipython3",
   "version": "3.11.5"
  }
 },
 "nbformat": 4,
 "nbformat_minor": 5
}
